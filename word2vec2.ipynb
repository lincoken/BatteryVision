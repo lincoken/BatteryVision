<<<<<<< HEAD
{
 "cells": [
  {
   "cell_type": "code",
   "execution_count": 7,
   "metadata": {},
   "outputs": [],
   "source": [
    "# imports for data\n",
    "# imports for word2 vec\n",
    "import gzip\n",
    "import gensim \n",
    "import logging"
   ]
  },
  {
   "cell_type": "code",
   "execution_count": 12,
   "metadata": {},
   "outputs": [],
   "source": [
    "# read in text file\n",
    "# Open a file: file\n",
    "file_name = \"Abstacts.txt\"\n",
    "file = open(file_name,mode='r')\n",
    "\n",
    "# read all lines at once\n",
    "text = file.read()\n",
    " \n",
    "# close the file\n",
    "file.close()"
   ]
  },
  {
   "cell_type": "code",
   "execution_count": 13,
   "metadata": {},
   "outputs": [
    {
     "name": "stdout",
     "output_type": "stream",
     "text": [
      "Close |  **Web of Science  \n",
      "Page 1 (Records 1 -- 10)**  \n",
      "| __[ 1  ] __  \n",
      "---  \n",
      "Print  \n",
      "  \n",
      "* * *\n",
      "\n",
      "* * *\n",
      "\n",
      "**Record 1 of 10**  \n",
      "---  \n",
      "**Title:** High performance bimetal sulfides for lithium-sulfur batteries  \n",
      "**Author(s):** Lu, XL (Lu, Xianlu); Zhang, QF (Zhang, Qingfeng); Wang, J\n",
      "(Wang, Jue); Chen, SH (Chen, Suhua); Ge, JM (Ge, Junmin); Liu, ZM (Liu,\n",
      "Zhaomeng); Wang, LL (Wang, Longlu); Ding, HB (Ding, Hongbo); Gong, DC (Gong,\n",
      "Decai); Yang, HG (Yang, Hongguan); Yu, XZ (Yu, Xinzhi); Zhu, J (Zhu, Jian);\n",
      "Lu, BA (Lu, Bingan)  \n",
      "**Source:** CHEMICAL ENGINEERING JOURNAL   **Volume:** 358   **Pages:**\n",
      "955-961   **DOI:** 10.1016/j.cej.2018.10.104   **Published:** FEB 15 2019  \n",
      "**Abstract:** To acquire remarkable cathode materials for lithium-sulfur\n",
      "batteries with ultrahigh utilization of active materials and superior cycling\n",
      "stability, we firstly employ carboxylated carbon nanotubes to prepare the\n",
      "NiCo2S4@CNTs/S for lithium-sulfur batteries via a simple hydrothermal method,\n",
      "following by a low temperature annealing. The NiCo2S4@CNTs presents a unique\n",
      "structure, which possesses thin branches filled with densely packed small\n",
      "leaves where a large number of micropores distribute. In the novel\n",
      "superstructure, carboxylated carbon nanotubes can effectively improve the\n",
      "electronic transportation capacity and conductivity of the cathode material.\n",
      "In lithium-sulfur batteries, bimetal sulfides have a strong adsorption of the\n",
      "polysulfides, effectively suppressing the diffusion of lithium polysulfides.\n",
      "The NiCo2S4@CNTs/S electrode shows a capacity of 788 mA h g(-1) at the current\n",
      "density of 0.5 C and 758 mA h g(-1) at 2 C. Even after 1000 cycles at the\n",
      "current density of 0.6 C the capacity only decays by 0.0489% each cycle. It\n",
      "should be notes that most of Coulombic efficiency of the NiCo2S4@CNTs/S\n",
      "electrode is about 99%, regardless of the current density. More importantly,\n",
      "the NiCo2S4@CNTs can exhibit an outstanding capability of absorbing lithium\n",
      "polysulfides, which provides a promising strategy for preparing advanced\n",
      "lithium-sulfur batteries.  \n",
      "**Accession Number:** WOS:000450105700089  \n",
      "**ISSN:** 1385-8947  \n",
      "**eISSN:** 1873-3212  \n",
      "  \n",
      "* * *\n",
      "\n",
      "**Record 2 of 10**  \n",
      "---  \n",
      "**Title:** Polar and conductive iron carbide@N-doped porous carbon nanosheets\n",
      "as a sulfur host for high performance lithium sulfur batteries  \n",
      "**Author(s):** Wang, YZ (Wang, Yazhou); Li, M (Li, Meng); Xu, LC (Xu, Lichun);\n",
      "Tang, TY (Tang, Tianyu); Ali, Z (Ali, Zeeshan); Huang, XX (Huang, Xiaoxiao);\n",
      "Hou, YL (Hou, Yanglong); Zhang, SQ (Zhang, Shanqing)  \n",
      "**Source:** CHEMICAL ENGINEERING JOURNAL   **Volume:** 358   **Pages:**\n",
      "962-968   **DOI:** 10.1016/j.cej.2018.10.086   **Published:** FEB 15 2019  \n",
      "**Abstract:** The practical application of Li-S batteries is inherently\n",
      "limited by the low conductivity of sulfur and the dissolution of polysulfides.\n",
      "The enhancement of conductivity and introduction of polarity to the sulfur\n",
      "host is an effective strategy to overcome these long-standing challenges. In\n",
      "this work, a facile one-step carbonizing process is used to synthesize a\n",
      "unique porous and conducive nanocomposite where Fe3C nanoparticles are\n",
      "embedded in nitrogen-doped porous carbon sheets (Fe3C@NPCS). As demonstrated\n",
      "in Li2S4 adsorption experiments and confirmed by density functional theory\n",
      "calculations, Fe3C nanoparticles are able to strongly adsorb polysulfides via\n",
      "strong Fe-S chemical bonds. Due to the remarkable conductivity, Fe3C\n",
      "nanoparticles can also accelerate the electrochemical reactions of the\n",
      "polysulfides through fast electron transportation. The carbon sheets prevent\n",
      "the aggregation of Fe3C nanoparticles and accommodate sulfur and its volume\n",
      "expansion during charge/discharge processes. With these features, the\n",
      "resultant sulfur cathodes (Fe3C@NPCS-S) deliver an excellent cycling\n",
      "performance with a capacity decay of 0.036% per cycle, and high rate\n",
      "performance of ca. 1127, 1020, 907, 802, 731 and 647 mAh g(-1) under current\n",
      "densities of 0.3, 0.5, 1, 2, 3 and 5 C, respectively.  \n",
      "**Accession Number:** WOS:000450105700090  \n",
      "Author Identifiers:  \n",
      "| Author| ResearcherID Number| ORCID Number  \n",
      "---|---|---  \n",
      "Ali, Zeeshan |  | 0000-0003-3297-9578  \n",
      "**ISSN:** 1385-8947  \n",
      "**eISSN:** 1873-3212  \n",
      "  \n",
      "* * *\n",
      "\n",
      "**Record 3 of 10**  \n",
      "---  \n",
      "**Title:** A poly (vinylidene fluoride-hexafluoropropylene) based three-\n",
      "dimensional network gel polymer electrolyte for solid-state lithium-sulfur\n",
      "batteries  \n",
      "**Author(s):** Xia, Y (Xia, Y.); Liang, YF (Liang, Y. F.); Xie, D (Xie, D.);\n",
      "Wang, XL (Wang, X. L.); Zhang, SZ (Zhang, S. Z.); Xia, XH (Xia, X. H.); Gu, CD\n",
      "(Gu, C. D.); Tu, JP (Tu, J. P.)  \n",
      "**Source:** CHEMICAL ENGINEERING JOURNAL   **Volume:** 358   **Pages:**\n",
      "1047-1053   **DOI:** 10.1016/j.cej.2018.10.092   **Published:** FEB 15 2019  \n",
      "**Abstract:** A UV-light polymerized three-dimensional (3D) network gel\n",
      "polymer electrolyte (GPE) is designed and fabricated for solid-state lithium-\n",
      "sulfur (Li-S) batteries. The GPE exhibits wide electrochemical window up to\n",
      "5.05 V (vs. Li+/Li), outstanding thermostability and mechanical property.\n",
      "Besides, the GPE effectively suppresses the extension of lithium dendrite and\n",
      "the electron-donating groups in GPE inhibit the shuttle of lithium\n",
      "polysulfides. The assembled solid-state Li-S batteries with the 3D network GPE\n",
      "show high specific capacity retention of 69.1% after 300 cycles at 0.5 C. With\n",
      "the consideration of these, the GPE in this report undoubtedly provides an\n",
      "effective technique to design high performance solid-state Li-S batteries.  \n",
      "**Accession Number:** WOS:000450105700098  \n",
      "**ISSN:** 1385-8947  \n",
      "**eISSN:** 1873-3212  \n",
      "  \n",
      "* * *\n",
      "\n",
      "**Record 4 of 10**  \n",
      "---  \n",
      "**Title:** Titanium oxide-Ti3C2 hybrids as sulfur hosts in lithium-sulfur\n",
      "battery: Fast oxidation treatment and enhanced polysulfide adsorption ability  \n",
      "**Author(s):** Pan, H (Pan, Hong); Huang, XX (Huang, Xiaoxiao); Zhang, R\n",
      "(Zhang, Rui); Wang, D (Wang, Dong); Chen, YT (Chen, Yanting); Duan, XM (Duan,\n",
      "Xiaoming); Wen, GW (Wen, Guangwu)  \n",
      "**Source:** CHEMICAL ENGINEERING JOURNAL   **Volume:** 358   **Pages:**\n",
      "1253-1261   **DOI:** 10.1016/j.cej.2018.10.026   **Published:** FEB 15 2019  \n",
      "**Abstract:** An ideal sulfur supporting material for lithium-sulfur battery\n",
      "should simultaneously incorporate the features of polysulfides\n",
      "adsorption/trapping and high conductivity, which are important for achieving\n",
      "good cycle performance and finally practical use. In this work, accordion-like\n",
      "titanium oxides-Ti3C2 MXene (Ti3C2Ox) hetero-structure was synthesized via a\n",
      "fast annealing treatment to Ti3C2 MXene (Ti3C2) in air. Oxidation temperature\n",
      "plays a key role on the formation of accordion-like Ti3C2Ox. The synthesized\n",
      "Ti3C2Ox material under 500 degrees C exhibits the most optimal structure,\n",
      "which presents the evenly distributed titanium oxides on the Ti3C2 nanosheets.\n",
      "This heterostructural material combines the high chemical adsorption ability\n",
      "of titanium oxides for LiPSs and good electronic conductivity of Ti3C2. After\n",
      "infiltrating with sulfur, a substantial specific capacity of 662 mAh g(-1) is\n",
      "achieved after 1000 cycles at 1 C (1.675 A g(-1)), corresponding to a very low\n",
      "capacity fading of 0.053% per cycle. Additionally, a reversible capacity of\n",
      "367 mAh g(-1) is still obtained at a high rate of 10 C. The Ti3C2Ox\n",
      "synthesized by the facile oxidation treatment is a highly promising electrode\n",
      "material and contributes to accelerate the practical use of Li-S battery.  \n",
      "**Accession Number:** WOS:000450105700118  \n",
      "**ISSN:** 1385-8947  \n",
      "**eISSN:** 1873-3212  \n",
      "  \n",
      "* * *\n",
      "\n",
      "**Record 5 of 10**  \n",
      "---  \n",
      "**Title:** Modification of cobalt-containing MOF-derived mesoporous carbon as\n",
      "an effective sulfur-loading host for rechargeable lithium-sulfur batteries  \n",
      "**Author(s):** Yu, FQ (Yu, Faqi); Zhou, H (Zhou, He); Shen, Q (Shen, Qiang)  \n",
      "**Source:** JOURNAL OF ALLOYS AND COMPOUNDS   **Volume:** 772   **Pages:**\n",
      "843-851   **DOI:** 10.1016/j.jallcom.2018.09.103   **Published:** JAN 25 2019  \n",
      "**Abstract:** Cobalt-containing metal-organic frameworks (MOF) are\n",
      "synthesized, then carbonized and then acid etched to obtain mesoporous carbon\n",
      "for its potential application as lithium-sulfur (Li-S) battery cathode\n",
      "scaffolds. Before etching the resulting mesoporous carbon acquires a specific\n",
      "surface area of 206.5 m(2) g(-1) and a pore volume of 0.29 cm(3) g(-1), and in\n",
      "its sulfur-loading composite-1 the S-content is similar to 45.2 wt%. After\n",
      "etching the modified mesoporous carbon exhibits a great improvement in\n",
      "porosity (Surface area similar to 650.2 m(2) g(-1) and pore volume -0.77 cm(3)\n",
      "g(-1)) and/or in sulfur-loading amount (i. e., the S-content of composite\n",
      "similar to 2 - 50.0 wt%). At 0.5 C (1 C = 1675 mA g(-1)), a composite-2\n",
      "cathode delivers a high discharge capacity of 925.1 mAh g(-1) in 2nd cycle and\n",
      "maintains a specific value of 781.1 mAh g(-1) in the 140th cycle, much higher\n",
      "than those of composite-1 cathode. Both of the two composite electrodes\n",
      "display a slight increase of electrolyte-solution resistance and surface-film\n",
      "resistance and an obvious decrease of chargetransfer resistance. By\n",
      "comparison, these resistances of composite-2 are smaller than those of\n",
      "composite1. This, together with the acid-modified structural parameters\n",
      "reasonably account for the enhanced electrochemical properties of composite-2.\n",
      "(C) 2018 Elsevier B. V. All rights reserved.  \n",
      "**Accession Number:** WOS:000449651100102  \n",
      "**ISSN:** 0925-8388  \n",
      "**eISSN:** 1873-4669  \n",
      "  \n",
      "* * *\n",
      "\n",
      "**Record 6 of 10**  \n",
      "---  \n",
      "**Title:** Nano-Mg0.6Ni0.4O and mesoporous carbon composites for cycle-\n",
      "stability enhancement of lithium-sulfur batteries  \n",
      "**Author(s):** Yang, R (Yang, Rong); Chen, D (Chen, Dan); Ren, B (Ren, Bing);\n",
      "Chen, LP (Chen, Liping); Zou, YM (Zou, Yiming); Yan, YL (Yan, Yinglin); Xu, YH\n",
      "(Xu, Yunhua)  \n",
      "**Source:** MATERIALS LETTERS   **Volume:** 235   **Pages:** 61-65   **DOI:**\n",
      "10.1016/j.matlet.2018.09.156   **Published:** JAN 15 2019  \n",
      "**Abstract:** A nano-magnesium nickel oxide-mesoporous carbon/sulfur\n",
      "composites (Mg0.6Ni0.4O-MPC/S) was designed and prepared for lithium-sulfur\n",
      "(Li-S) batteries. With a specific surface area as high as 1001.2 m(2) g(-1)\n",
      "and a unique porous structure, MPC in the composites can not only absorb the\n",
      "polysulfides generated during charge-discharge process to slow down the\n",
      "shuttle effect, but provide Li+ with a transmission channel. Nano-Mg0.6Ni0.4O\n",
      "(40 nm) particles, as an additive fabricated by self-propagating high\n",
      "temperature synthesis, can promote chemical bond dissociation with\n",
      "polysulfides and accelerate the electrochemical reaction rate. The composites\n",
      "loaded with 59 wt% sulfur exhibit a high initial capacity of 1360 mAh g(-1) at\n",
      "0.1 C and 695 mAh g(-1) after 100 cycles, proving that the synergistic effect\n",
      "between MPC and Nano-Mg0.6Ni0.4O leads to good cycle stability of the\n",
      "batteries. (C) 2018 Elsevier B.V. All rights reserved.  \n",
      "**Accession Number:** WOS:000448000700016  \n",
      "**ISSN:** 0167-577X  \n",
      "**eISSN:** 1873-4979  \n",
      "  \n",
      "* * *\n",
      "\n",
      "**Record 7 of 10**  \n",
      "---  \n",
      "**Title:** Template-free synthesis of multifunctional Co3O4 nanotubes as\n",
      "excellent performance electrode materials for superior energy storage  \n",
      "**Author(s):** Wang, JX (Wang, Jixing); Wang, C (Wang, Cheng); Zhen, MM (Zhen,\n",
      "Mengmeng)  \n",
      "**Source:** CHEMICAL ENGINEERING JOURNAL   **Volume:** 356   **Pages:** 1-10\n",
      "**DOI:** 10.1016/j.cej.2018.09.014   **Published:** JAN 15 2019  \n",
      "**Abstract:** Herein, multifunctional Co3O4 nanotubes (Co3O4-T) are\n",
      "successfully constructed via a low-cost and template-free route, which show a\n",
      "tubular structure with mesoporous and hollow interior. The as-prepared Co3O4-T\n",
      "exhibit superior cycling performances, rate capabilities and strong cycling\n",
      "stability when used as the electrode materials in lithium-ion batteries (LIBs)\n",
      "and lithium-sulfur batteries (LSBs). The Co3O4-T electrode delivers a high\n",
      "specific capacity of similar to 1081 mAh g(-1) at a current density of 100 mAh\n",
      "g(-1) after 50 cycles in LIBs. Besides, it also shows a high initial discharge\n",
      "capacity of 1049.3 mAh g-1 and low overpotential of 154 mV at 0.2 C in LSBs.\n",
      "These excellent electrochemical performances of Co3O4-T electrode are\n",
      "attributed to the unique tubular structure with small-sized mesoporous, which\n",
      "facilitates Li+ diffusion and enhances structural robustness.  \n",
      "**Accession Number:** WOS:000447004100001  \n",
      "**ISSN:** 1385-8947  \n",
      "**eISSN:** 1873-3212  \n",
      "  \n",
      "* * *\n",
      "\n",
      "**Record 8 of 10**  \n",
      "---  \n",
      "**Title:** Multifunctional flexible composite aerogels constructed through in-\n",
      "situ growth of metal-organic framework nanoparticles on bacterial cellulose  \n",
      "**Author(s):** Ma, XT (Ma, Xiaoting); Lou, Y (Lou, Yue); Chen, XB (Chen, Xiao-\n",
      "Bo); Shi, Z (Shi, Zhan); Xu, Y (Xu, Yan)  \n",
      "**Source:** CHEMICAL ENGINEERING JOURNAL   **Volume:** 356   **Pages:**\n",
      "227-235   **DOI:** 10.1016/j.cej.2018.09.034   **Published:** JAN 15 2019  \n",
      "**Abstract:** Flexible metal-organic framework (MOF) aerogels with practical\n",
      "macroscopic shapeability and hierarchical porosity were prepared through in-\n",
      "site growth of MOF nanoparticles, i.e. zeolitic imidazolate framework-8\n",
      "(ZIF-8) and University of Oslo-66 (UiO-66), on bacteria cellulose (BC). The\n",
      "yielded composite aerogels inherit high porosities from feedstock MOFs and\n",
      "mechanical flexibility from BC template. BC template offers high porosity,\n",
      "mechanical flexibility to the composite aerogels, which significantly\n",
      "suppresses the aggregation of individual MOF nanoparticles. Owing to the\n",
      "structural characteristics of MOF and BC, BC@ZIF-8 composite aerogel sponges\n",
      "exhibit a low density below 0.03 g cm(-3), hierarchical porosity, large\n",
      "surface area, high mass transfer efficiency and superior adsorption\n",
      "performance of heavy metal ions. After 24 h adsorption in simulated industrial\n",
      "waterwastes, removal efficiency of the composite aerogels reaches up to 81%\n",
      "with respect to Pb2+ ion pollutants, which is 1.2 times higher than that of\n",
      "original ZIF-8 nanoparticle counterparts. BC@UiO-66 composite aerogel film, as\n",
      "a flexible lithium-sulfur battery interlayer, demonstrates a high reversible\n",
      "capacity of 631 mAh g(-1) at 0.5C over 100 cycles, which is attributed to its\n",
      "selectivity for Li+ ions and efficient inhibition to the soluble polysulfide\n",
      "ions. In addition, the presence of polydopamine (PDA) coating on BC@UiO-66\n",
      "nanofibers in BC@UiO-66@ PDA composite aerogel films increases reversible\n",
      "capacity up to 739 mAh g(-1) at 0.5C over 100 cycles. This work provides a\n",
      "feasible solution to process MOF powders into a flexible and tailorable form,\n",
      "and holds a new promise to rational design and manufacturing of MOF monoliths\n",
      "with a great structural diversity as advanced multifunctional materials.  \n",
      "**Accession Number:** WOS:000447004100024  \n",
      "Author Identifiers:  \n",
      "| Author| ResearcherID Number| ORCID Number  \n",
      "---|---|---  \n",
      "CHEN, Xiao-Bo |  | 0000-0002-4508-5971  \n",
      "**ISSN:** 1385-8947  \n",
      "**eISSN:** 1873-3212  \n",
      "  \n",
      "* * *\n",
      "\n",
      "**Record 9 of 10**  \n",
      "---  \n",
      "**Title:** Covalent bonding of sulfur nanoparticles to unzipped multiwalled\n",
      "carbon nanotubes for high-performance lithium-sulfur batteries  \n",
      "**Author(s):** Qi, SQ (Qi, Siqi); Sun, JH (Sun, Jinhua); Ma, JP (Ma, Junpeng);\n",
      "Sun, Y (Sun, Yue); Goossens, K (Goossens, Karel); Li, H (Li, Hui); Jia, P\n",
      "(Jia, Pan); Fan, XY (Fan, Xueying); Bielawski, CW (Bielawski, Christopher W.);\n",
      "Geng, JX (Geng, Jianxin)  \n",
      "**Source:** NANOTECHNOLOGY   **Volume:** 30   **Issue:** 2   **Article\n",
      "Number:** 024001   **DOI:** 10.1088/1361-6528/aae6e5   **Published:** JAN 11\n",
      "2019  \n",
      "**Abstract:** The use of sulfur as a cathode material for lithium-sulfur\n",
      "(Li-S) batteries has attracted significant attention due to its high\n",
      "theoretical specific capacity (1675 mA h g(-1)); however, practicality is\n",
      "hindered by a number of obstacles, including the shuttling effect of\n",
      "polysulfides and the low electrical conductivity of sulfur. Herein, ball\n",
      "milling sulfur with unzipped multiwalled carbon nanotubes (UMWNTs) was found\n",
      "to covalently immobilize sulfur nanoparticles to the UMWNTs and resulted in\n",
      "composites (designated as S@UMWNTs) with high electrical conductivity. The\n",
      "unzipping degree of MWNTs was first controlled to optimize the immobilization\n",
      "of sulfur nanoparticles to UMWNTs and the electrochemical performance of the\n",
      "resulting Li-S batteries. The presence of C-S covalent bonds between the\n",
      "UMWNTs and sulfur nanoparticles was verified using x-ray photoelectron\n",
      "spectroscopy and Fourier transform infrared spectroscopy, and the formation of\n",
      "C-S bonds was ascribed to the reactions between the mechanically-induced\n",
      "sulfur radicals and the functional groups of UMWNTs. As a result, when used as\n",
      "a cathode material for Li-S batteries, the S@UMWNTs exhibited excellent\n",
      "electrochemical performance, including a good long-term cycling stability and\n",
      "low capacity decay (e.g., ca. 0.09% per cycle over 500 charge/discharge cycles\n",
      "at 1 C) due to the suppression of the shuttling effect by the C-S covalent\n",
      "bonds.  \n",
      "**Accession Number:** WOS:000448981600001  \n",
      "**PubMed ID:** 30378565  \n",
      "Author Identifiers:  \n",
      "| Author| ResearcherID Number| ORCID Number  \n",
      "---|---|---  \n",
      "Geng, Jianxin |  | 0000-0003-0428-4621  \n",
      "**ISSN:** 0957-4484  \n",
      "**eISSN:** 1361-6528  \n",
      "  \n",
      "* * *\n",
      "\n",
      "**Record 10 of 10**  \n",
      "---  \n",
      "**Title:** Uniform honeycomb-like microspheres constructed with titanium\n",
      "nitride to confine polysulfides for extremely stable lithium-sulfur batteries  \n",
      "**Author(s):** Lu, Y (Lu, Yang); Wang, YG (Wang, Yange); Wang, WX (Wang,\n",
      "Weixiao); Guo, Y (Guo, Yan); Zhang, YG (Zhang, Yingge); Luo, RJ (Luo,\n",
      "Rongjie); Liu, XM (Liu, Xianming); Peng, T (Peng, Tao)  \n",
      "**Source:** JOURNAL OF PHYSICS D-APPLIED PHYSICS   **Volume:** 52   **Issue:**\n",
      "2   **Article Number:** 025502   **DOI:** 10.1088/1361-6463/aae806\n",
      "**Published:** JAN 9 2019  \n",
      "**Abstract:** Lithium-sulfur batteries are considered the most promising next-\n",
      "generation electrochemical energy storage devices due to their high\n",
      "theoretical energy density. However, their practical application is hindered\n",
      "by the severe shuttle effect of polysulfides and the low conductivity of\n",
      "sulfur cathode. Herein, we design a titanium nitride host with a three-\n",
      "dimensional honeycomb-like structure via a spray drying method, which has the\n",
      "advantages of metallic conductivity and ultrafast anchoring to realize\n",
      "efficient adsorption and conversion of polysulfide. The honeycomb-like\n",
      "architecture can shorten the diffusion path of lithium ions, and buffer the\n",
      "volume change of sulfur, which can improve reaction kinetics and maintain the\n",
      "stability of the material structure. As a result, the sulfur cathode based on\n",
      "titanium nitride host exhibits an excellent cycling performance with a stable\n",
      "capacity of 650.4 mAh g(-1) within 500 cycles at 100 mA g(-1). The excellent\n",
      "performance shows the importance of designing cathode materials with\n",
      "reasonable structures in lithium sulfur batteries.  \n",
      "**Accession Number:** WOS:000449170500002  \n",
      "**ISSN:** 0022-3727  \n",
      "**eISSN:** 1361-6463  \n",
      "  \n",
      "* * *\n",
      "\n",
      "Close |  **Web of Science  \n",
      "Page 1 (Records 1 -- 10)**  \n",
      "| __[ 1 ] __  \n",
      "---  \n",
      "Print  \n",
      "  \n",
      "Clarivate\n",
      "\n",
      "Accelerating innovation\n",
      "\n",
      "  * [ (C) 2018 Clarivate](javascript: void\\('home'\\))\n",
      "  * [Copyright notice](javascript: void\\('copyright'\\))\n",
      "  * [ Terms of use](javascript: void\\('policy'\\);)\n",
      "  * [ Privacy statement](javascript: void\\('privacy'\\);)\n",
      "  * [Cookie policy](javascript: void\\('cookies'\\))\n",
      "\n",
      "  * [Sign up for the Web of Science newsletter](javascript: void\\('Newsletter'\\))\n",
      "  * Follow us\n",
      "  * ____\n",
      "  * ____\n",
      "\n",
      "\n"
     ]
    }
   ],
   "source": [
    "print(text)"
   ]
  },
  {
   "cell_type": "code",
   "execution_count": null,
   "metadata": {},
   "outputs": [],
   "source": []
  }
 ],
 "metadata": {
  "kernelspec": {
   "display_name": "Python 3",
   "language": "python",
   "name": "python3"
  },
  "language_info": {
   "codemirror_mode": {
    "name": "ipython",
    "version": 3
   },
   "file_extension": ".py",
   "mimetype": "text/x-python",
   "name": "python",
   "nbconvert_exporter": "python",
   "pygments_lexer": "ipython3",
   "version": "3.6.6"
  }
 },
 "nbformat": 4,
 "nbformat_minor": 2
}
=======
{
 "cells": [
  {
   "cell_type": "code",
   "execution_count": 266,
   "metadata": {},
   "outputs": [],
   "source": [
    "# imports for data\n",
    "# imports for word2vec\n",
    "import gzip\n",
    "from gensim.models import Word2Vec\n",
    "import logging\n",
    "from sklearn.decomposition import PCA\n",
    "from matplotlib import pyplot"
   ]
  },
  {
   "cell_type": "code",
   "execution_count": 116,
   "metadata": {},
   "outputs": [],
   "source": [
    "# logging\n",
    "logging.basicConfig(format='%(asctime)s : %(levelname)s : %(message)s', level=logging.INFO)"
   ]
  },
  {
   "cell_type": "markdown",
   "metadata": {},
   "source": [
    "## Pull in Data\n",
    "    Sterling"
   ]
  },
  {
   "cell_type": "code",
   "execution_count": 50,
   "metadata": {},
   "outputs": [],
   "source": [
    "# read in text file\n",
    "# Open a file: file\n",
    "file_name = \"Abstacts.txt\"\n",
    "file = open(file_name,mode='r')\n",
    "\n",
    "# read all lines at once\n",
    "text = file.read()\n",
    " \n",
    "# close the file\n",
    "file.close()"
   ]
  },
  {
   "cell_type": "code",
   "execution_count": 51,
   "metadata": {},
   "outputs": [
    {
     "name": "stdout",
     "output_type": "stream",
     "text": [
      "**Title:** High performance bimetal sulfides for lithium-sulfur batteries  \n",
      "**Author(s):** Lu, XL (Lu, Xianlu); Zhang, QF (Zhang, Qingfeng); Wang, J\n",
      "(Wang, Jue); Chen, SH (Chen, Suhua); Ge, JM (Ge, Junmin); Liu, ZM (Liu,\n",
      "Zhaomeng); Wang, LL (Wang, Longlu); Ding, HB (Ding, Hongbo); Gong, DC (Gong,\n",
      "Decai); Yang, HG (Yang, Hongguan); Yu, XZ (Yu, Xinzhi); Zhu, J (Zhu, Jian);\n",
      "Lu, BA (Lu, Bingan)  \n",
      "**Source:** CHEMICAL ENGINEERING JOURNAL   **Volume:** 358   **Pages:**\n",
      "955-961   **DOI:** 10.1016/j.cej.2018.10.104   **Published:** FEB 15 2019  \n",
      "**Abstract:** To acquire remarkable cathode materials for lithium-sulfur\n",
      "batteries with ultrahigh utilization of active materials and superior cycling\n",
      "stability, we firstly employ carboxylated carbon nanotubes to prepare the\n",
      "NiCo2S4@CNTs/S for lithium-sulfur batteries via a simple hydrothermal method,\n",
      "following by a low temperature annealing. The NiCo2S4@CNTs presents a unique\n",
      "structure, which possesses thin branches filled with densely packed small\n",
      "leaves where a large number of micropores distribute. In the novel\n",
      "superstructure, carboxylated carbon nanotubes can effectively improve the\n",
      "electronic transportation capacity and conductivity of the cathode material.\n",
      "In lithium-sulfur batteries, bimetal sulfides have a strong adsorption of the\n",
      "polysulfides, effectively suppressing the diffusion of lithium polysulfides.\n",
      "The NiCo2S4@CNTs/S electrode shows a capacity of 788 mA h g(-1) at the current\n",
      "density of 0.5 C and 758 mA h g(-1) at 2 C. Even after 1000 cycles at the\n",
      "current density of 0.6 C the capacity only decays by 0.0489% each cycle. It\n",
      "should be notes that most of Coulombic efficiency of the NiCo2S4@CNTs/S\n",
      "electrode is about 99%, regardless of the current density. More importantly,\n",
      "the NiCo2S4@CNTs can exhibit an outstanding capability of absorbing lithium\n",
      "polysulfides, which provides a promising strategy for preparing advanced\n",
      "lithium-sulfur batteries.  \n",
      "**Accession Number:** WOS:000450105700089  \n",
      "**ISSN:** 1385-8947  \n",
      "**eISSN:** 1873-3212  \n",
      "  \n",
      "* * *\n",
      "\n",
      "**Record 2 of 10**  \n",
      "---  \n",
      "**Title:** Polar and conductive iron carbide@N-doped porous carbon nanosheets\n",
      "as a sulfur host for high performance lithium sulfur batteries  \n",
      "**Author(s):** Wang, YZ (Wang, Yazhou); Li, M (Li, Meng); Xu, LC (Xu, Lichun);\n",
      "Tang, TY (Tang, Tianyu); Ali, Z (Ali, Zeeshan); Huang, XX (Huang, Xiaoxiao);\n",
      "Hou, YL (Hou, Yanglong); Zhang, SQ (Zhang, Shanqing)  \n",
      "**Source:** CHEMICAL ENGINEERING JOURNAL   **Volume:** 358   **Pages:**\n",
      "962-968   **DOI:** 10.1016/j.cej.2018.10.086   **Published:** FEB 15 2019  \n",
      "**Abstract:** The practical application of Li-S batteries is inherently\n",
      "limited by the low conductivity of sulfur and the dissolution of polysulfides.\n",
      "The enhancement of conductivity and introduction of polarity to the sulfur\n",
      "host is an effective strategy to overcome these long-standing challenges. In\n",
      "this work, a facile one-step carbonizing process is used to synthesi\n"
     ]
    }
   ],
   "source": [
    "print(text[131:3056])"
   ]
  },
  {
   "cell_type": "code",
   "execution_count": 193,
   "metadata": {},
   "outputs": [],
   "source": [
    "# split text into abstracts\n",
    "abstracts = text.split(\"**Title:** \");"
   ]
  },
  {
   "cell_type": "code",
   "execution_count": 194,
   "metadata": {},
   "outputs": [
    {
     "name": "stdout",
     "output_type": "stream",
     "text": [
      "11\n",
      "10\n"
     ]
    }
   ],
   "source": [
    "type(abstracts)\n",
    "#print(abstracts[0])\n",
    "print(len(abstracts))\n",
    "del abstracts[0]\n",
    "print(len(abstracts))\n",
    "#print(abstracts[0])"
   ]
  },
  {
   "cell_type": "code",
   "execution_count": 195,
   "metadata": {},
   "outputs": [],
   "source": [
    "string_eg = \"this sentence will be our string example for this next function\""
   ]
  },
  {
   "cell_type": "code",
   "execution_count": 196,
   "metadata": {},
   "outputs": [
    {
     "data": {
      "text/plain": [
       "'will'"
      ]
     },
     "execution_count": 196,
     "metadata": {},
     "output_type": "execute_result"
    }
   ],
   "source": [
    "string_eg.index('will')\n",
    "string_eg[14:14+len('will')]"
   ]
  },
  {
   "cell_type": "code",
   "execution_count": 197,
   "metadata": {},
   "outputs": [],
   "source": [
    "example_abstract = abstracts[1][abstracts[1].index('**Abstract:**')+len('**Abstract:**'):abstracts[1].index('**Accession Number:**')]"
   ]
  },
  {
   "cell_type": "code",
   "execution_count": 198,
   "metadata": {},
   "outputs": [
    {
     "name": "stdout",
     "output_type": "stream",
     "text": [
      " The practical application of Li-S batteries is inherently\n",
      "limited by the low conductivity of sulfur and the dissolution of polysulfides.\n",
      "The enhancement of conductivity and introduction of polarity to the sulfur\n",
      "host is an effective strategy to overcome these long-standing challenges. In\n",
      "this work, a facile one-step carbonizing process is used to synthesize a\n",
      "unique porous and conducive nanocomposite where Fe3C nanoparticles are\n",
      "embedded in nitrogen-doped porous carbon sheets (Fe3C@NPCS). As demonstrated\n",
      "in Li2S4 adsorption experiments and confirmed by density functional theory\n",
      "calculations, Fe3C nanoparticles are able to strongly adsorb polysulfides via\n",
      "strong Fe-S chemical bonds. Due to the remarkable conductivity, Fe3C\n",
      "nanoparticles can also accelerate the electrochemical reactions of the\n",
      "polysulfides through fast electron transportation. The carbon sheets prevent\n",
      "the aggregation of Fe3C nanoparticles and accommodate sulfur and its volume\n",
      "expansion during charge/discharge processes. With these features, the\n",
      "resultant sulfur cathodes (Fe3C@NPCS-S) deliver an excellent cycling\n",
      "performance with a capacity decay of 0.036% per cycle, and high rate\n",
      "performance of ca. 1127, 1020, 907, 802, 731 and 647 mAh g(-1) under current\n",
      "densities of 0.3, 0.5, 1, 2, 3 and 5 C, respectively.  \n",
      "\n"
     ]
    }
   ],
   "source": [
    "print(example_abstract)"
   ]
  },
  {
   "cell_type": "markdown",
   "metadata": {},
   "source": [
    "## Format Data\n",
    "    David"
   ]
  },
  {
   "cell_type": "code",
   "execution_count": 274,
   "metadata": {},
   "outputs": [
    {
     "name": "stdout",
     "output_type": "stream",
     "text": [
      "[['', 'the', 'practical', 'application', 'of', 'li-s', 'batteries', 'is', 'inherently\\nlimited', 'by', 'the', 'low', 'conductivity', 'of', 'sulfur', 'and', 'the', 'dissolution', 'of', 'polysulfides.\\nthe', 'enhancement', 'of', 'conductivity', 'and', 'introduction', 'of', 'polarity', 'to', 'the', 'sulfur\\nhost', 'is', 'an', 'effective', 'strategy', 'to', 'overcome', 'these', 'long-standing', 'challenges.', 'in\\nthis', 'work,', 'a', 'facile', 'one-step', 'carbonizing', 'process', 'is', 'used', 'to', 'synthesize', 'a\\nunique', 'porous', 'and', 'conducive', 'nanocomposite', 'where', 'fe3c', 'nanoparticles', 'are\\nembedded', 'in', 'nitrogen-doped', 'porous', 'carbon', 'sheets', '(fe3c@npcs).', 'as', 'demonstrated\\nin', 'li2s4', 'adsorption', 'experiments', 'and', 'confirmed', 'by', 'density', 'functional', 'theory\\ncalculations,', 'fe3c', 'nanoparticles', 'are', 'able', 'to', 'strongly', 'adsorb', 'polysulfides', 'via\\nstrong', 'fe-s', 'chemical', 'bonds.', 'due', 'to', 'the', 'remarkable', 'conductivity,', 'fe3c\\nnanoparticles', 'can', 'also', 'accelerate', 'the', 'electrochemical', 'reactions', 'of', 'the\\npolysulfides', 'through', 'fast', 'electron', 'transportation.', 'the', 'carbon', 'sheets', 'prevent\\nthe', 'aggregation', 'of', 'fe3c', 'nanoparticles', 'and', 'accommodate', 'sulfur', 'and', 'its', 'volume\\nexpansion', 'during', 'charge/discharge', 'processes.', 'with', 'these', 'features,', 'the\\nresultant', 'sulfur', 'cathodes', '(fe3c@npcs-s)', 'deliver', 'an', 'excellent', 'cycling\\nperformance', 'with', 'a', 'capacity', 'decay', 'of', '0.036%', 'per', 'cycle,', 'and', 'high', 'rate\\nperformance', 'of', 'ca.', '1127,', '1020,', '907,', '802,', '731', 'and', '647', 'mah', 'g(-1)', 'under', 'current\\ndensities', 'of', '0.3,', '0.5,', '1,', '2,', '3', 'and', '5', 'c,', 'respectively.', '', '\\n']]\n"
     ]
    }
   ],
   "source": [
    "eg_abs_low = example_abstract.lower();\n",
    "#print(eg_abs_low)\n",
    "sentences = [eg_abs_low.split(' ')]\n",
    "len(sentences)\n",
    "print(sentences)"
   ]
  },
  {
   "cell_type": "markdown",
   "metadata": {},
   "source": [
    "## Create Word Embedings\n",
    "    Kennedy"
   ]
  },
  {
   "cell_type": "code",
   "execution_count": 275,
   "metadata": {
    "collapsed": true
   },
   "outputs": [
    {
     "name": "stderr",
     "output_type": "stream",
     "text": [
      "2018-12-05 00:46:49,362 : INFO : collecting all words and their counts\n",
      "2018-12-05 00:46:49,365 : INFO : PROGRESS: at sentence #0, processed 0 words, keeping 0 word types\n",
      "2018-12-05 00:46:49,368 : INFO : collected 125 word types from a corpus of 170 raw words and 1 sentences\n",
      "2018-12-05 00:46:49,370 : INFO : Loading a fresh vocabulary\n",
      "2018-12-05 00:46:49,372 : INFO : effective_min_count=1 retains 125 unique words (100% of original 125, drops 0)\n",
      "2018-12-05 00:46:49,374 : INFO : effective_min_count=1 leaves 170 word corpus (100% of original 170, drops 0)\n",
      "2018-12-05 00:46:49,377 : INFO : deleting the raw counts dictionary of 125 items\n",
      "2018-12-05 00:46:49,378 : INFO : sample=0.001 downsamples 125 most-common words\n",
      "2018-12-05 00:46:49,380 : INFO : downsampling leaves estimated 78 word corpus (46.2% of prior 170)\n",
      "2018-12-05 00:46:49,383 : INFO : estimated required memory for 125 words and 100 dimensions: 162500 bytes\n",
      "2018-12-05 00:46:49,384 : INFO : resetting layer weights\n",
      "2018-12-05 00:46:49,388 : INFO : training model with -1 workers on 125 vocabulary and 100 features, using sg=0 hs=0 sample=0.001 negative=5 window=5\n",
      "2018-12-05 00:46:49,401 : INFO : EPOCH - 1 : training on 0 raw words (0 effective words) took 0.0s, 0 effective words/s\n",
      "2018-12-05 00:46:49,402 : WARNING : EPOCH - 1 : supplied example count (0) did not equal expected count (1)\n",
      "2018-12-05 00:46:49,404 : WARNING : EPOCH - 1 : supplied raw word count (0) did not equal expected count (170)\n",
      "2018-12-05 00:46:49,410 : INFO : EPOCH - 2 : training on 0 raw words (0 effective words) took 0.0s, 0 effective words/s\n",
      "2018-12-05 00:46:49,411 : WARNING : EPOCH - 2 : supplied example count (0) did not equal expected count (1)\n",
      "2018-12-05 00:46:49,413 : WARNING : EPOCH - 2 : supplied raw word count (0) did not equal expected count (170)\n",
      "2018-12-05 00:46:49,416 : INFO : EPOCH - 3 : training on 0 raw words (0 effective words) took 0.0s, 0 effective words/s\n",
      "2018-12-05 00:46:49,417 : WARNING : EPOCH - 3 : supplied example count (0) did not equal expected count (1)\n",
      "2018-12-05 00:46:49,417 : WARNING : EPOCH - 3 : supplied raw word count (0) did not equal expected count (170)\n",
      "2018-12-05 00:46:49,421 : INFO : EPOCH - 4 : training on 0 raw words (0 effective words) took 0.0s, 0 effective words/s\n",
      "2018-12-05 00:46:49,422 : WARNING : EPOCH - 4 : supplied example count (0) did not equal expected count (1)\n",
      "2018-12-05 00:46:49,423 : WARNING : EPOCH - 4 : supplied raw word count (0) did not equal expected count (170)\n",
      "2018-12-05 00:46:49,430 : INFO : EPOCH - 5 : training on 0 raw words (0 effective words) took 0.0s, 0 effective words/s\n",
      "2018-12-05 00:46:49,432 : WARNING : EPOCH - 5 : supplied example count (0) did not equal expected count (1)\n",
      "2018-12-05 00:46:49,434 : WARNING : EPOCH - 5 : supplied raw word count (0) did not equal expected count (170)\n",
      "2018-12-05 00:46:49,435 : INFO : training on a 0 raw words (0 effective words) took 0.0s, 0 effective words/s\n"
     ]
    }
   ],
   "source": [
    "model = Word2Vec(sentences, size = 100, min_count=1,workers=-1) # train and create model, size will be word encoding length"
   ]
  },
  {
   "cell_type": "code",
   "execution_count": 276,
   "metadata": {},
   "outputs": [
    {
     "name": "stdout",
     "output_type": "stream",
     "text": [
      "Word2Vec(vocab=125, size=100, alpha=0.025)\n"
     ]
    }
   ],
   "source": [
    "print(model) # summarize the loaded model"
   ]
  },
  {
   "cell_type": "code",
   "execution_count": 277,
   "metadata": {},
   "outputs": [
    {
     "name": "stdout",
     "output_type": "stream",
     "text": [
      "['', 'the', 'practical', 'application', 'of', 'li-s', 'batteries', 'is', 'inherently\\nlimited', 'by', 'low', 'conductivity', 'sulfur', 'and', 'dissolution', 'polysulfides.\\nthe', 'enhancement', 'introduction', 'polarity', 'to', 'sulfur\\nhost', 'an', 'effective', 'strategy', 'overcome', 'these', 'long-standing', 'challenges.', 'in\\nthis', 'work,', 'a', 'facile', 'one-step', 'carbonizing', 'process', 'used', 'synthesize', 'a\\nunique', 'porous', 'conducive', 'nanocomposite', 'where', 'fe3c', 'nanoparticles', 'are\\nembedded', 'in', 'nitrogen-doped', 'carbon', 'sheets', '(fe3c@npcs).', 'as', 'demonstrated\\nin', 'li2s4', 'adsorption', 'experiments', 'confirmed', 'density', 'functional', 'theory\\ncalculations,', 'are', 'able', 'strongly', 'adsorb', 'polysulfides', 'via\\nstrong', 'fe-s', 'chemical', 'bonds.', 'due', 'remarkable', 'conductivity,', 'fe3c\\nnanoparticles', 'can', 'also', 'accelerate', 'electrochemical', 'reactions', 'the\\npolysulfides', 'through', 'fast', 'electron', 'transportation.', 'prevent\\nthe', 'aggregation', 'accommodate', 'its', 'volume\\nexpansion', 'during', 'charge/discharge', 'processes.', 'with', 'features,', 'the\\nresultant', 'cathodes', '(fe3c@npcs-s)', 'deliver', 'excellent', 'cycling\\nperformance', 'capacity', 'decay', '0.036%', 'per', 'cycle,', 'high', 'rate\\nperformance', 'ca.', '1127,', '1020,', '907,', '802,', '731', '647', 'mah', 'g(-1)', 'under', 'current\\ndensities', '0.3,', '0.5,', '1,', '2,', '3', '5', 'c,', 'respectively.', '\\n']\n"
     ]
    }
   ],
   "source": [
    "words = list(model.wv.vocab) # summarize vocabulary\n",
    "print(words)"
   ]
  },
  {
   "cell_type": "code",
   "execution_count": 278,
   "metadata": {},
   "outputs": [
    {
     "name": "stdout",
     "output_type": "stream",
     "text": [
      "lenth of encoding: 100 \n",
      "encoding: \n",
      "[-6.0280605e-04  2.9157454e-04  2.4359021e-03 -4.9910345e-03\n",
      " -2.8430836e-03 -3.1574932e-03  1.2512832e-03 -2.1990857e-03\n",
      " -1.1496311e-03  6.4118672e-04 -3.9837575e-03  7.7497039e-04\n",
      " -9.5929259e-05 -1.1884478e-03 -1.5357797e-03 -4.0949853e-03\n",
      "  4.9030408e-03 -6.6801999e-04  4.5021684e-03 -3.3187107e-03\n",
      "  1.0575943e-03 -3.6825330e-03  5.1803625e-04  1.9188774e-03\n",
      "  3.7693372e-03 -2.2275394e-03  1.7420290e-03 -2.4127322e-03\n",
      "  2.1187395e-03 -1.8597429e-03 -8.0275658e-04 -2.1422587e-03\n",
      " -2.6422257e-03  2.5577226e-03 -5.1821559e-04 -2.2074215e-03\n",
      "  4.2482205e-03  3.2961550e-03 -3.0189776e-03 -3.1164081e-03\n",
      " -1.0908471e-03 -3.7754066e-03  1.7617627e-03  4.4788998e-03\n",
      " -2.2830071e-03 -1.2100106e-03  1.0177377e-03 -2.6425114e-03\n",
      "  3.1993133e-03 -8.0101046e-04 -3.0608161e-03 -2.8107630e-03\n",
      "  2.5882670e-03  3.5020162e-03 -2.0981743e-03 -1.5499268e-04\n",
      "  1.6041467e-04 -1.2707871e-03 -4.5956094e-03  3.7164870e-03\n",
      " -4.6249176e-03  1.0802329e-03 -7.3121733e-04 -1.8538309e-03\n",
      "  4.6782093e-03  3.1563949e-03 -3.0995021e-03  3.8327922e-03\n",
      " -7.2527520e-04 -3.3818786e-03  2.6947593e-03 -4.3026423e-03\n",
      " -2.0865663e-03  2.2396061e-03  4.7074957e-03  1.3356094e-03\n",
      " -2.9010340e-03 -1.8434316e-03  3.3738003e-03  4.4031395e-03\n",
      "  4.8462083e-03 -4.5499988e-03 -6.8238180e-05 -1.2603917e-04\n",
      "  9.8435988e-04 -9.5814496e-04  4.4343849e-03  4.2952034e-03\n",
      "  1.9611497e-03 -3.8088363e-04 -1.9071122e-03 -3.2755204e-03\n",
      "  7.3013757e-04 -4.8184018e-03  5.8686477e-04 -9.6844463e-04\n",
      " -1.7751795e-03 -1.1036076e-03 -3.9230115e-03  1.2244545e-03]\n"
     ]
    },
    {
     "name": "stderr",
     "output_type": "stream",
     "text": [
      "/opt/conda/lib/python3.6/site-packages/ipykernel_launcher.py:2: DeprecationWarning: Call to deprecated `__getitem__` (Method will be removed in 4.0.0, use self.wv.__getitem__() instead).\n",
      "  \n"
     ]
    }
   ],
   "source": [
    "eg_word = 'under'\n",
    "print('lenth of encoding: {0} \\nencoding: \\n{1}'.format(len(model[eg_word]), model[eg_word])) # access vector for one word"
   ]
  },
  {
   "cell_type": "markdown",
   "metadata": {},
   "source": [
    "#### Visualize Word Embedding"
   ]
  },
  {
   "cell_type": "code",
   "execution_count": 279,
   "metadata": {},
   "outputs": [
    {
     "name": "stderr",
     "output_type": "stream",
     "text": [
      "/opt/conda/lib/python3.6/site-packages/ipykernel_launcher.py:1: DeprecationWarning: Call to deprecated `__getitem__` (Method will be removed in 4.0.0, use self.wv.__getitem__() instead).\n",
      "  \"\"\"Entry point for launching an IPython kernel.\n"
     ]
    }
   ],
   "source": [
    "X = model[model.wv.vocab] # fit a 2d PCA model to the vectors\n",
    "pca = PCA(n_components=2)\n",
    "result = pca.fit_transform(X)"
   ]
  },
  {
   "cell_type": "code",
   "execution_count": 280,
   "metadata": {},
   "outputs": [
    {
     "data": {
      "image/png": "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\n",
      "text/plain": [
       "<Figure size 432x288 with 1 Axes>"
      ]
     },
     "metadata": {},
     "output_type": "display_data"
    }
   ],
   "source": [
    "# create a scatter plot of the projection\n",
    "pyplot.scatter(result[:, 0], result[:, 1])\n",
    "words = list(model.wv.vocab)\n",
    "for i, word in enumerate(words):\n",
    "    pyplot.annotate(word, xy=(result[i, 0], result[i, 1]))\n",
    "pyplot.show()"
   ]
  },
  {
   "cell_type": "code",
   "execution_count": null,
   "metadata": {},
   "outputs": [],
   "source": []
  }
 ],
 "metadata": {
  "kernelspec": {
   "display_name": "Python 3",
   "language": "python",
   "name": "python3"
  },
  "language_info": {
   "codemirror_mode": {
    "name": "ipython",
    "version": 3
   },
   "file_extension": ".py",
   "mimetype": "text/x-python",
   "name": "python",
   "nbconvert_exporter": "python",
   "pygments_lexer": "ipython3",
   "version": "3.6.5"
  }
 },
 "nbformat": 4,
 "nbformat_minor": 2
}
>>>>>>> kennedy
