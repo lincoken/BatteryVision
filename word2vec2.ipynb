{
 "cells": [
  {
   "cell_type": "code",
   "execution_count": 13,
   "metadata": {},
   "outputs": [
    {
     "name": "stderr",
     "output_type": "stream",
     "text": [
      "RuntimeWarning: numpy.dtype size changed, may indicate binary incompatibility. Expected 96, got 88 [_bootstrap.py:219]\n"
     ]
    }
   ],
   "source": [
    "# imports for data\n",
    "import PyPDF2\n",
    "from nltk.tokenize import word_tokenize\n",
    "from nltk.corpus import stopwords\n",
    "# imports for word2 vec\n",
    "import gzip\n",
    "import gensim \n",
    "import logging"
   ]
  },
  {
   "cell_type": "code",
   "execution_count": 5,
   "metadata": {},
   "outputs": [],
   "source": [
    "# loging\n",
    "logging.basicConfig(format= '%(asctime)s : %(levelname)s : %(message)s', level=logging.INFO)"
   ]
  },
  {
   "cell_type": "code",
   "execution_count": 45,
   "metadata": {},
   "outputs": [
    {
     "name": "stdout",
     "output_type": "stream",
     "text": [
      "worked\n"
     ]
    }
   ],
   "source": [
    "# load the data\n",
    "file = 'data_1.pdf'\n",
    "pdfFileObj = open(file,'rb')\n",
    "pdfReader = PyPDF2.PdfFileReader(pdfFileObj)\n",
    "\n",
    "num_pages = pdfReader.numPages\n",
    "count = 0\n",
    "text = \"\"\n",
    "\n",
    "#The while loop will read each page\n",
    "while count < num_pages:\n",
    "    pageObj = pdfReader.getPage(count)\n",
    "    count += 1\n",
    "    text += pageObj.extractText() \n",
    "    \n",
    "if(text != \"\"):\n",
    "    print('worked')\n",
    "else:\n",
    "    text = textract.process(fileurl, method='tesseract', language='eng')"
   ]
  },
  {
   "cell_type": "code",
   "execution_count": 46,
   "metadata": {},
   "outputs": [
    {
     "name": "stdout",
     "output_type": "stream",
     "text": [
      "ACarbon-CottonCathodewithUltrahigh-\n",
      "LoadingCapabilityforStaticallyand\n",
      "\n",
      "DynamicallyStableLithium\n",
      "SulfurBatteries\n"
     ]
    }
   ],
   "source": [
    "print(text[0:111])    # title of article"
   ]
  },
  {
   "cell_type": "markdown",
   "metadata": {},
   "source": [
    "note, the data got rid of spaces and has 'n characters for new line....\n"
   ]
  },
  {
   "cell_type": "code",
   "execution_count": null,
   "metadata": {},
   "outputs": [],
   "source": []
  }
 ],
 "metadata": {
  "kernelspec": {
   "display_name": "Python 3",
   "language": "python",
   "name": "python3"
  },
  "language_info": {
   "codemirror_mode": {
    "name": "ipython",
    "version": 3
   },
   "file_extension": ".py",
   "mimetype": "text/x-python",
   "name": "python",
   "nbconvert_exporter": "python",
   "pygments_lexer": "ipython3",
   "version": "3.6.5"
  }
 },
 "nbformat": 4,
 "nbformat_minor": 2
}
