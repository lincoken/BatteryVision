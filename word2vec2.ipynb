{
 "cells": [
  {
   "cell_type": "code",
   "execution_count": 7,
   "metadata": {},
   "outputs": [],
   "source": [
    "# imports for data\n",
    "# imports for word2 vec\n",
    "import gzip\n",
    "import gensim \n",
    "import logging"
   ]
  },
  {
   "cell_type": "code",
   "execution_count": 116,
   "metadata": {},
   "outputs": [],
   "source": [
    "# logging\n",
    "logging.basicConfig(format='%(asctime)s : %(levelname)s : %(message)s', level=logging.INFO)"
   ]
  },
  {
   "cell_type": "code",
   "execution_count": 50,
   "metadata": {},
   "outputs": [],
   "source": [
    "# read in text file\n",
    "# Open a file: file\n",
    "file_name = \"Abstacts.txt\"\n",
    "file = open(file_name,mode='r')\n",
    "\n",
    "# read all lines at once\n",
    "text = file.read()\n",
    " \n",
    "# close the file\n",
    "file.close()"
   ]
  },
  {
   "cell_type": "code",
   "execution_count": 51,
   "metadata": {},
   "outputs": [
    {
     "name": "stdout",
     "output_type": "stream",
     "text": [
      "**Title:** High performance bimetal sulfides for lithium-sulfur batteries  \n",
      "**Author(s):** Lu, XL (Lu, Xianlu); Zhang, QF (Zhang, Qingfeng); Wang, J\n",
      "(Wang, Jue); Chen, SH (Chen, Suhua); Ge, JM (Ge, Junmin); Liu, ZM (Liu,\n",
      "Zhaomeng); Wang, LL (Wang, Longlu); Ding, HB (Ding, Hongbo); Gong, DC (Gong,\n",
      "Decai); Yang, HG (Yang, Hongguan); Yu, XZ (Yu, Xinzhi); Zhu, J (Zhu, Jian);\n",
      "Lu, BA (Lu, Bingan)  \n",
      "**Source:** CHEMICAL ENGINEERING JOURNAL   **Volume:** 358   **Pages:**\n",
      "955-961   **DOI:** 10.1016/j.cej.2018.10.104   **Published:** FEB 15 2019  \n",
      "**Abstract:** To acquire remarkable cathode materials for lithium-sulfur\n",
      "batteries with ultrahigh utilization of active materials and superior cycling\n",
      "stability, we firstly employ carboxylated carbon nanotubes to prepare the\n",
      "NiCo2S4@CNTs/S for lithium-sulfur batteries via a simple hydrothermal method,\n",
      "following by a low temperature annealing. The NiCo2S4@CNTs presents a unique\n",
      "structure, which possesses thin branches filled with densely packed small\n",
      "leaves where a large number of micropores distribute. In the novel\n",
      "superstructure, carboxylated carbon nanotubes can effectively improve the\n",
      "electronic transportation capacity and conductivity of the cathode material.\n",
      "In lithium-sulfur batteries, bimetal sulfides have a strong adsorption of the\n",
      "polysulfides, effectively suppressing the diffusion of lithium polysulfides.\n",
      "The NiCo2S4@CNTs/S electrode shows a capacity of 788 mA h g(-1) at the current\n",
      "density of 0.5 C and 758 mA h g(-1) at 2 C. Even after 1000 cycles at the\n",
      "current density of 0.6 C the capacity only decays by 0.0489% each cycle. It\n",
      "should be notes that most of Coulombic efficiency of the NiCo2S4@CNTs/S\n",
      "electrode is about 99%, regardless of the current density. More importantly,\n",
      "the NiCo2S4@CNTs can exhibit an outstanding capability of absorbing lithium\n",
      "polysulfides, which provides a promising strategy for preparing advanced\n",
      "lithium-sulfur batteries.  \n",
      "**Accession Number:** WOS:000450105700089  \n",
      "**ISSN:** 1385-8947  \n",
      "**eISSN:** 1873-3212  \n",
      "  \n",
      "* * *\n",
      "\n",
      "**Record 2 of 10**  \n",
      "---  \n",
      "**Title:** Polar and conductive iron carbide@N-doped porous carbon nanosheets\n",
      "as a sulfur host for high performance lithium sulfur batteries  \n",
      "**Author(s):** Wang, YZ (Wang, Yazhou); Li, M (Li, Meng); Xu, LC (Xu, Lichun);\n",
      "Tang, TY (Tang, Tianyu); Ali, Z (Ali, Zeeshan); Huang, XX (Huang, Xiaoxiao);\n",
      "Hou, YL (Hou, Yanglong); Zhang, SQ (Zhang, Shanqing)  \n",
      "**Source:** CHEMICAL ENGINEERING JOURNAL   **Volume:** 358   **Pages:**\n",
      "962-968   **DOI:** 10.1016/j.cej.2018.10.086   **Published:** FEB 15 2019  \n",
      "**Abstract:** The practical application of Li-S batteries is inherently\n",
      "limited by the low conductivity of sulfur and the dissolution of polysulfides.\n",
      "The enhancement of conductivity and introduction of polarity to the sulfur\n",
      "host is an effective strategy to overcome these long-standing challenges. In\n",
      "this work, a facile one-step carbonizing process is used to synthesi\n"
     ]
    }
   ],
   "source": [
    "print(text[131:3056])"
   ]
  },
  {
   "cell_type": "code",
   "execution_count": 193,
   "metadata": {},
   "outputs": [],
   "source": [
    "# split text into abstracts\n",
    "abstracts = text.split(\"**Title:** \");"
   ]
  },
  {
   "cell_type": "code",
   "execution_count": 194,
   "metadata": {},
   "outputs": [
    {
     "name": "stdout",
     "output_type": "stream",
     "text": [
      "11\n",
      "10\n"
     ]
    }
   ],
   "source": [
    "type(abstracts)\n",
    "#print(abstracts[0])\n",
    "print(len(abstracts))\n",
    "del abstracts[0]\n",
    "print(len(abstracts))\n",
    "#print(abstracts[0])"
   ]
  },
  {
   "cell_type": "code",
   "execution_count": 195,
   "metadata": {},
   "outputs": [],
   "source": [
    "string_eg = \"this sentence will be our string example for this next function\""
   ]
  },
  {
   "cell_type": "code",
   "execution_count": 196,
   "metadata": {},
   "outputs": [
    {
     "data": {
      "text/plain": [
       "'will'"
      ]
     },
     "execution_count": 196,
     "metadata": {},
     "output_type": "execute_result"
    }
   ],
   "source": [
    "string_eg.index('will')\n",
    "string_eg[14:14+len('will')]"
   ]
  },
  {
   "cell_type": "code",
   "execution_count": 197,
   "metadata": {},
   "outputs": [],
   "source": [
    "example_abstract = abstracts[1][abstracts[1].index('**Abstract:**')+len('**Abstract:**'):abstracts[1].index('**Accession Number:**')]"
   ]
  },
  {
   "cell_type": "code",
   "execution_count": 198,
   "metadata": {},
   "outputs": [
    {
     "name": "stdout",
     "output_type": "stream",
     "text": [
      " The practical application of Li-S batteries is inherently\n",
      "limited by the low conductivity of sulfur and the dissolution of polysulfides.\n",
      "The enhancement of conductivity and introduction of polarity to the sulfur\n",
      "host is an effective strategy to overcome these long-standing challenges. In\n",
      "this work, a facile one-step carbonizing process is used to synthesize a\n",
      "unique porous and conducive nanocomposite where Fe3C nanoparticles are\n",
      "embedded in nitrogen-doped porous carbon sheets (Fe3C@NPCS). As demonstrated\n",
      "in Li2S4 adsorption experiments and confirmed by density functional theory\n",
      "calculations, Fe3C nanoparticles are able to strongly adsorb polysulfides via\n",
      "strong Fe-S chemical bonds. Due to the remarkable conductivity, Fe3C\n",
      "nanoparticles can also accelerate the electrochemical reactions of the\n",
      "polysulfides through fast electron transportation. The carbon sheets prevent\n",
      "the aggregation of Fe3C nanoparticles and accommodate sulfur and its volume\n",
      "expansion during charge/discharge processes. With these features, the\n",
      "resultant sulfur cathodes (Fe3C@NPCS-S) deliver an excellent cycling\n",
      "performance with a capacity decay of 0.036% per cycle, and high rate\n",
      "performance of ca. 1127, 1020, 907, 802, 731 and 647 mAh g(-1) under current\n",
      "densities of 0.3, 0.5, 1, 2, 3 and 5 C, respectively.  \n",
      "\n"
     ]
    }
   ],
   "source": [
    "print(example_abstract)"
   ]
  },
  {
   "cell_type": "code",
   "execution_count": 224,
   "metadata": {},
   "outputs": [
    {
     "name": "stdout",
     "output_type": "stream",
     "text": [
      "['hello', '', 'the', 'practical', 'application', 'of', 'li-s', 'batteries', 'is', 'inherently\\nlimited', 'by', 'the', 'low', 'conductivity', 'of', 'sulfur', 'and', 'the', 'dissolution', 'of', 'polysulfides.\\nthe', 'enhancement', 'of', 'conductivity', 'and', 'introduction', 'of', 'polarity', 'to', 'the', 'sulfur\\nhost', 'is', 'an', 'effective', 'strategy', 'to', 'overcome', 'these', 'long-standing', 'challenges.', 'in\\nthis', 'work,', 'facile', 'one-step', 'carbonizing', 'process', 'is', 'used', 'to', 'synthesize', 'a\\nunique', 'porous', 'and', 'conducive', 'nanocomposite', 'where', 'fe3c', 'nanoparticles', 'are\\nembedded', 'in', 'nitrogen-doped', 'porous', 'carbon', 'sheets', '(fe3c@npcs).', 'as', 'demonstrated\\nin', 'li2s4', 'adsorption', 'experiments', 'and', 'confirmed', 'by', 'density', 'functional', 'theory\\ncalculations,', 'fe3c', 'nanoparticles', 'are', 'able', 'to', 'strongly', 'adsorb', 'polysulfides', 'via\\nstrong', 'fe-s', 'chemical', 'bonds.', 'due', 'to', 'the', 'remarkable', 'conductivity,', 'fe3c\\nnanoparticles', 'can', 'also', 'accelerate', 'the', 'electrochemical', 'reactions', 'of', 'the\\npolysulfides', 'through', 'fast', 'electron', 'transportation.', 'the', 'carbon', 'sheets', 'prevent\\nthe', 'aggregation', 'of', 'fe3c', 'nanoparticles', 'and', 'accommodate', 'sulfur', 'and', 'its', 'volume\\nexpansion', 'during', 'charge/discharge', 'processes.', 'with', 'these', 'features,', 'the\\nresultant', 'sulfur', 'cathodes', '(fe3c@npcs-s)', 'deliver', 'an', 'excellent', 'cycling\\nperformance', 'with', 'capacity', 'decay', 'of', '0.036%', 'per', 'cycle,', 'and', 'high', 'rate\\nperformance', 'of', 'ca.', '1127,', '1020,', '907,', '802,', '731', 'and', '647', 'mah', 'g(-1)', 'under', 'current\\ndensities', 'of', '0.3,', '0.5,', '1,', '2,', '3', 'and', '5', 'c,', 'respectively.', '', '\\n', '', 'the', 'practical', 'application', 'of', 'li-s', 'batteries', 'is', 'inherently\\nlimited', 'by', 'the', 'low', 'conductivity', 'of', 'sulfur', 'and', 'the', 'dissolution', 'of', 'polysulfides.\\nthe', 'enhancement', 'of', 'conductivity', 'and', 'introduction', 'of', 'polarity', 'to', 'the', 'sulfur\\nhost', 'is', 'effective', 'strategy', 'to', 'overcome', 'these', 'long-standing', 'challenges.', 'in\\nthis', 'work,', 'a', 'facile', 'one-step', 'carbonizing', 'process', 'is', 'used', 'to', 'synthesize', 'a\\nunique', 'porous', 'and', 'conducive', 'nanocomposite', 'where', 'fe3c', 'nanoparticles', 'are\\nembedded', 'in', 'nitrogen-doped', 'porous', 'carbon', 'sheets', '(fe3c@npcs).', 'as', 'demonstrated\\nin', 'li2s4', 'adsorption', 'experiments', 'and', 'confirmed', 'by', 'density', 'functional', 'theory\\ncalculations,', 'fe3c', 'nanoparticles', 'are', 'able', 'to', 'strongly', 'adsorb', 'polysulfides', 'via\\nstrong', 'fe-s', 'chemical', 'bonds.', 'due', 'to', 'the', 'remarkable', 'conductivity,', 'fe3c\\nnanoparticles', 'can', 'also', 'accelerate', 'the', 'electrochemical', 'reactions', 'of', 'the\\npolysulfides', 'through', 'fast', 'electron', 'transportation.', 'the', 'carbon', 'sheets', 'prevent\\nthe', 'aggregation', 'of', 'fe3c', 'nanoparticles', 'and', 'accommodate', 'sulfur', 'and', 'its', 'volume\\nexpansion', 'during', 'charge/discharge', 'processes.', 'with', 'these', 'features,', 'the\\nresultant', 'sulfur', 'cathodes', '(fe3c@npcs-s)', 'deliver', 'excellent', 'cycling\\nperformance', 'with', 'a', 'capacity', 'decay', 'of', '0.036%', 'per', 'cycle,', 'and', 'high', 'rate\\nperformance', 'of', 'ca.', '1127,', '1020,', '907,', '802,', '731', 'and', '647', 'mah', 'g(-1)', 'under', 'current\\ndensities', 'of', '0.3,', '0.5,', '1,', '2,', '3', 'and', '5', 'c,', 'respectively.', '', '\\n', '', 'the', 'practical', 'application', 'of', 'li-s', 'batteries', 'is', 'inherently\\nlimited', 'by', 'the', 'low', 'conductivity', 'of', 'sulfur', 'and', 'the', 'dissolution', 'of', 'polysulfides.\\nthe', 'enhancement', 'of', 'conductivity', 'and', 'introduction', 'of', 'polarity', 'the', 'sulfur\\nhost', 'is', 'an', 'effective', 'strategy', 'overcome', 'these', 'long-standing', 'challenges.', 'in\\nthis', 'work,', 'a', 'facile', 'one-step', 'carbonizing', 'process', 'is', 'used', 'synthesize', 'a\\nunique', 'porous', 'and', 'conducive', 'nanocomposite', 'where', 'fe3c', 'nanoparticles', 'are\\nembedded', 'in', 'nitrogen-doped', 'porous', 'carbon', 'sheets', '(fe3c@npcs).', 'as', 'demonstrated\\nin', 'li2s4', 'adsorption', 'experiments', 'and', 'confirmed', 'by', 'density', 'functional', 'theory\\ncalculations,', 'fe3c', 'nanoparticles', 'are', 'able', 'strongly', 'adsorb', 'polysulfides', 'via\\nstrong', 'fe-s', 'chemical', 'bonds.', 'due', 'the', 'remarkable', 'conductivity,', 'fe3c\\nnanoparticles', 'can', 'also', 'accelerate', 'the', 'electrochemical', 'reactions', 'of', 'the\\npolysulfides', 'through', 'fast', 'electron', 'transportation.', 'the', 'carbon', 'sheets', 'prevent\\nthe', 'aggregation', 'of', 'fe3c', 'nanoparticles', 'and', 'accommodate', 'sulfur', 'and', 'its', 'volume\\nexpansion', 'during', 'charge/discharge', 'processes.', 'with', 'these', 'features,', 'the\\nresultant', 'sulfur', 'cathodes', '(fe3c@npcs-s)', 'deliver', 'an', 'excellent', 'cycling\\nperformance', 'with', 'a', 'capacity', 'decay', 'of', '0.036%', 'per', 'cycle,', 'and', 'high', 'rate\\nperformance', 'of', 'ca.', '1127,', '1020,', '907,', '802,', '731', 'and', '647', 'mah', 'g(-1)', 'under', 'current\\ndensities', 'of', '0.3,', '0.5,', '1,', '2,', '3', 'and', '5', 'c,', 'respectively.', '', '\\n', '', 'the', 'practical', 'application', 'of', 'li-s', 'batteries', 'is', 'inherently\\nlimited', 'by', 'the', 'low', 'conductivity', 'of', 'sulfur', 'and', 'the', 'dissolution', 'of', 'polysulfides.\\nthe', 'enhancement', 'of', 'conductivity', 'and', 'introduction', 'of', 'polarity', 'to', 'the', 'sulfur\\nhost', 'is', 'an', 'effective', 'strategy', 'to', 'overcome', 'these', 'long-standing', 'challenges.', 'in\\nthis', 'work,', 'a', 'facile', 'one-step', 'carbonizing', 'process', 'is', 'used', 'to', 'synthesize', 'a\\nunique', 'porous', 'and', 'conducive', 'nanocomposite', 'where', 'fe3c', 'nanoparticles', 'are\\nembedded', 'in', 'nitrogen-doped', 'porous', 'carbon', 'sheets', '(fe3c@npcs).', 'demonstrated\\nin', 'li2s4', 'adsorption', 'experiments', 'and', 'confirmed', 'by', 'density', 'functional', 'theory\\ncalculations,', 'fe3c', 'nanoparticles', 'are', 'able', 'to', 'strongly', 'adsorb', 'polysulfides', 'via\\nstrong', 'fe-s', 'chemical', 'bonds.', 'due', 'to', 'the', 'remarkable', 'conductivity,', 'fe3c\\nnanoparticles', 'can', 'also', 'accelerate', 'the', 'electrochemical', 'reactions', 'of', 'the\\npolysulfides', 'through', 'fast', 'electron', 'transportation.', 'the', 'carbon', 'sheets', 'prevent\\nthe', 'aggregation', 'of', 'fe3c', 'nanoparticles', 'and', 'accommodate', 'sulfur', 'and', 'its', 'volume\\nexpansion', 'during', 'charge/discharge', 'processes.', 'with', 'these', 'features,', 'the\\nresultant', 'sulfur', 'cathodes', '(fe3c@npcs-s)', 'deliver', 'an', 'excellent', 'cycling\\nperformance', 'with', 'a', 'capacity', 'decay', 'of', '0.036%', 'per', 'cycle,', 'and', 'high', 'rate\\nperformance', 'of', 'ca.', '1127,', '1020,', '907,', '802,', '731', 'and', '647', 'mah', 'g(-1)', 'under', 'current\\ndensities', 'of', '0.3,', '0.5,', '1,', '2,', '3', 'and', '5', 'c,', 'respectively.', '', '\\n', '', 'the', 'practical', 'application', 'li-s', 'batteries', 'is', 'inherently\\nlimited', 'by', 'the', 'low', 'conductivity', 'sulfur', 'and', 'the', 'dissolution', 'polysulfides.\\nthe', 'enhancement', 'conductivity', 'and', 'introduction', 'polarity', 'to', 'the', 'sulfur\\nhost', 'is', 'an', 'effective', 'strategy', 'to', 'overcome', 'these', 'long-standing', 'challenges.', 'in\\nthis', 'work,', 'a', 'facile', 'one-step', 'carbonizing', 'process', 'is', 'used', 'to', 'synthesize', 'a\\nunique', 'porous', 'and', 'conducive', 'nanocomposite', 'where', 'fe3c', 'nanoparticles', 'are\\nembedded', 'in', 'nitrogen-doped', 'porous', 'carbon', 'sheets', '(fe3c@npcs).', 'as', 'demonstrated\\nin', 'li2s4', 'adsorption', 'experiments', 'and', 'confirmed', 'by', 'density', 'functional', 'theory\\ncalculations,', 'fe3c', 'nanoparticles', 'are', 'able', 'to', 'strongly', 'adsorb', 'polysulfides', 'via\\nstrong', 'fe-s', 'chemical', 'bonds.', 'due', 'to', 'the', 'remarkable', 'conductivity,', 'fe3c\\nnanoparticles', 'can', 'also', 'accelerate', 'the', 'electrochemical', 'reactions', 'the\\npolysulfides', 'through', 'fast', 'electron', 'transportation.', 'the', 'carbon', 'sheets', 'prevent\\nthe', 'aggregation', 'fe3c', 'nanoparticles', 'and', 'accommodate', 'sulfur', 'and', 'its', 'volume\\nexpansion', 'during', 'charge/discharge', 'processes.', 'with', 'these', 'features,', 'the\\nresultant', 'sulfur', 'cathodes', '(fe3c@npcs-s)', 'deliver', 'an', 'excellent', 'cycling\\nperformance', 'with', 'a', 'capacity', 'decay', '0.036%', 'per', 'cycle,', 'and', 'high', 'rate\\nperformance', 'ca.', '1127,', '1020,', '907,', '802,', '731', 'and', '647', 'mah', 'g(-1)', 'under', 'current\\ndensities', '0.3,', '0.5,', '1,', '2,', '3', 'and', '5', 'c,', 'respectively.', '', '\\n', '', 'the', 'practical', 'application', 'of', 'li-s', 'batteries', 'is', 'inherently\\nlimited', 'by', 'the', 'low', 'conductivity', 'of', 'sulfur', 'and', 'the', 'dissolution', 'of', 'polysulfides.\\nthe', 'enhancement', 'of', 'conductivity', 'and', 'introduction', 'of', 'polarity', 'to', 'the', 'sulfur\\nhost', 'is', 'an', 'effective', 'strategy', 'to', 'overcome', 'these', 'long-standing', 'challenges.', 'in\\nthis', 'work,', 'a', 'facile', 'one-step', 'carbonizing', 'process', 'is', 'used', 'to', 'synthesize', 'a\\nunique', 'porous', 'and', 'conducive', 'nanocomposite', 'where', 'fe3c', 'nanoparticles', 'are\\nembedded', 'in', 'nitrogen-doped', 'porous', 'carbon', 'sheets', '(fe3c@npcs).', 'as', 'demonstrated\\nin', 'li2s4', 'adsorption', 'experiments', 'and', 'confirmed', 'by', 'density', 'functional', 'theory\\ncalculations,', 'fe3c', 'nanoparticles', 'are', 'able', 'to', 'strongly', 'adsorb', 'polysulfides', 'via\\nstrong', 'fe-s', 'chemical', 'bonds.', 'due', 'to', 'the', 'remarkable', 'conductivity,', 'fe3c\\nnanoparticles', 'can', 'accelerate', 'the', 'electrochemical', 'reactions', 'of', 'the\\npolysulfides', 'through', 'fast', 'electron', 'transportation.', 'the', 'carbon', 'sheets', 'prevent\\nthe', 'aggregation', 'of', 'fe3c', 'nanoparticles', 'and', 'accommodate', 'sulfur', 'and', 'its', 'volume\\nexpansion', 'during', 'charge/discharge', 'processes.', 'with', 'these', 'features,', 'the\\nresultant', 'sulfur', 'cathodes', '(fe3c@npcs-s)', 'deliver', 'an', 'excellent', 'cycling\\nperformance', 'with', 'a', 'capacity', 'decay', 'of', '0.036%', 'per', 'cycle,', 'and', 'high', 'rate\\nperformance', 'of', 'ca.', '1127,', '1020,', '907,', '802,', '731', 'and', '647', 'mah', 'g(-1)', 'under', 'current\\ndensities', 'of', '0.3,', '0.5,', '1,', '2,', '3', 'and', '5', 'c,', 'respectively.', '', '\\n', '', 'the', 'practical', 'application', 'of', 'li-s', 'batteries', 'is', 'inherently\\nlimited', 'by', 'the', 'low', 'conductivity', 'of', 'sulfur', 'and', 'the', 'dissolution', 'of', 'polysulfides.\\nthe', 'enhancement', 'of', 'conductivity', 'and', 'introduction', 'of', 'polarity', 'to', 'the', 'sulfur\\nhost', 'is', 'an', 'effective', 'strategy', 'to', 'overcome', 'these', 'long-standing', 'challenges.', 'in\\nthis', 'work,', 'a', 'facile', 'one-step', 'carbonizing', 'process', 'is', 'used', 'to', 'synthesize', 'a\\nunique', 'porous', 'and', 'conducive', 'nanocomposite', 'where', 'fe3c', 'nanoparticles', 'are\\nembedded', 'in', 'nitrogen-doped', 'porous', 'carbon', 'sheets', '(fe3c@npcs).', 'as', 'demonstrated\\nin', 'li2s4', 'adsorption', 'experiments', 'and', 'confirmed', 'by', 'density', 'functional', 'theory\\ncalculations,', 'fe3c', 'nanoparticles', 'able', 'to', 'strongly', 'adsorb', 'polysulfides', 'via\\nstrong', 'fe-s', 'chemical', 'bonds.', 'due', 'to', 'the', 'remarkable', 'conductivity,', 'fe3c\\nnanoparticles', 'can', 'also', 'accelerate', 'the', 'electrochemical', 'reactions', 'of', 'the\\npolysulfides', 'through', 'fast', 'electron', 'transportation.', 'the', 'carbon', 'sheets', 'prevent\\nthe', 'aggregation', 'of', 'fe3c', 'nanoparticles', 'and', 'accommodate', 'sulfur', 'and', 'its', 'volume\\nexpansion', 'during', 'charge/discharge', 'processes.', 'with', 'these', 'features,', 'the\\nresultant', 'sulfur', 'cathodes', '(fe3c@npcs-s)', 'deliver', 'an', 'excellent', 'cycling\\nperformance', 'with', 'a', 'capacity', 'decay', 'of', '0.036%', 'per', 'cycle,', 'and', 'high', 'rate\\nperformance', 'of', 'ca.', '1127,', '1020,', '907,', '802,', '731', 'and', '647', 'mah', 'g(-1)', 'under', 'current\\ndensities', 'of', '0.3,', '0.5,', '1,', '2,', '3', 'and', '5', 'c,', 'respectively.', '', '\\n', '', 'the', 'practical', 'application', 'of', 'li-s', 'batteries', 'is', 'inherently\\nlimited', 'by', 'the', 'low', 'conductivity', 'of', 'sulfur', 'and', 'the', 'dissolution', 'of', 'polysulfides.\\nthe', 'enhancement', 'of', 'conductivity', 'and', 'introduction', 'of', 'polarity', 'to', 'the', 'sulfur\\nhost', 'is', 'an', 'effective', 'strategy', 'to', 'overcome', 'these', 'long-standing', 'challenges.', 'in\\nthis', 'work,', 'a', 'facile', 'one-step', 'carbonizing', 'process', 'is', 'used', 'to', 'synthesize', 'a\\nunique', 'porous', 'and', 'conducive', 'nanocomposite', 'where', 'fe3c', 'nanoparticles', 'are\\nembedded', 'in', 'nitrogen-doped', 'porous', 'carbon', 'sheets', '(fe3c@npcs).', 'as', 'demonstrated\\nin', 'li2s4', 'adsorption', 'experiments', 'and', 'confirmed', 'by', 'density', 'functional', 'theory\\ncalculations,', 'fe3c', 'nanoparticles', 'are', 'able', 'to', 'strongly', 'adsorb', 'polysulfides', 'via\\nstrong', 'fe-s', 'chemical', 'bonds.', 'due', 'to', 'the', 'remarkable', 'conductivity,', 'fe3c\\nnanoparticles', 'can', 'also', 'accelerate', 'the', 'electrochemical', 'reactions', 'of', 'the\\npolysulfides', 'through', 'fast', 'electron', 'transportation.', 'the', 'carbon', 'sheets', 'prevent\\nthe', 'aggregation', 'of', 'fe3c', 'nanoparticles', 'and', 'accommodate', 'sulfur', 'and', 'its', 'volume\\nexpansion', 'during', 'charge/discharge', 'processes.', 'with', 'these', 'features,', 'the\\nresultant', 'sulfur', 'cathodes', '(fe3c@npcs-s)', 'deliver', 'an', 'excellent', 'cycling\\nperformance', 'with', 'a', 'capacity', 'decay', 'of', '0.036%', 'per', 'cycle,', 'and', 'high', 'rate\\nperformance', 'of', 'ca.', '1127,', '1020,', '907,', '802,', '731', 'and', '647', 'mah', 'g(-1)', 'under', 'current\\ndensities', 'of', '0.3,', '0.5,', '1,', '2,', '3', 'and', '5', 'c,', 'respectively.', '', '\\n', '', 'the', 'practical', 'application', 'of', 'li-s', 'batteries', 'is', 'inherently\\nlimited', 'by', 'the', 'low', 'conductivity', 'of', 'sulfur', 'and', 'the', 'dissolution', 'of', 'polysulfides.\\nthe', 'enhancement', 'of', 'conductivity', 'and', 'introduction', 'of', 'polarity', 'to', 'the', 'sulfur\\nhost', 'is', 'an', 'effective', 'strategy', 'to', 'overcome', 'these', 'long-standing', 'challenges.', 'in\\nthis', 'work,', 'a', 'facile', 'one-step', 'carbonizing', 'process', 'is', 'used', 'to', 'synthesize', 'a\\nunique', 'porous', 'and', 'conducive', 'nanocomposite', 'where', 'fe3c', 'nanoparticles', 'are\\nembedded', 'in', 'nitrogen-doped', 'porous', 'carbon', 'sheets', '(fe3c@npcs).', 'as', 'demonstrated\\nin', 'li2s4', 'adsorption', 'experiments', 'and', 'confirmed', 'by', 'density', 'functional', 'theory\\ncalculations,', 'fe3c', 'nanoparticles', 'are', 'able', 'to', 'strongly', 'adsorb', 'polysulfides', 'via\\nstrong', 'fe-s', 'chemical', 'bonds.', 'due', 'to', 'the', 'remarkable', 'conductivity,', 'fe3c\\nnanoparticles', 'can', 'also', 'accelerate', 'the', 'electrochemical', 'reactions', 'of', 'the\\npolysulfides', 'through', 'fast', 'electron', 'transportation.', 'the', 'carbon', 'sheets', 'prevent\\nthe', 'aggregation', 'of', 'fe3c', 'nanoparticles', 'and', 'accommodate', 'sulfur', 'and', 'its', 'volume\\nexpansion', 'during', 'charge/discharge', 'processes.', 'with', 'these', 'features,', 'the\\nresultant', 'sulfur', 'cathodes', '(fe3c@npcs-s)', 'deliver', 'an', 'excellent', 'cycling\\nperformance', 'with', 'a', 'capacity', 'decay', 'of', '0.036%', 'per', 'cycle,', 'and', 'high', 'rate\\nperformance', 'of', 'ca.', '1127,', '1020,', '907,', '802,', '731', 'and', '647', 'mah', 'g(-1)', 'under', 'current\\ndensities', 'of', '0.3,', '0.5,', '1,', '2,', '3', 'and', '5', 'c,', 'respectively.', '', '\\n', '', 'the', 'practical', 'application', 'of', 'li-s', 'batteries', 'is', 'inherently\\nlimited', 'by', 'the', 'low', 'conductivity', 'of', 'sulfur', 'and', 'the', 'dissolution', 'of', 'polysulfides.\\nthe', 'enhancement', 'of', 'conductivity', 'and', 'introduction', 'of', 'polarity', 'to', 'the', 'sulfur\\nhost', 'is', 'an', 'effective', 'strategy', 'to', 'overcome', 'long-standing', 'challenges.', 'in\\nthis', 'work,', 'a', 'facile', 'one-step', 'carbonizing', 'process', 'is', 'used', 'to', 'synthesize', 'a\\nunique', 'porous', 'and', 'conducive', 'nanocomposite', 'where', 'fe3c', 'nanoparticles', 'are\\nembedded', 'in', 'nitrogen-doped', 'porous', 'carbon', 'sheets', '(fe3c@npcs).', 'as', 'demonstrated\\nin', 'li2s4', 'adsorption', 'experiments', 'and', 'confirmed', 'by', 'density', 'functional', 'theory\\ncalculations,', 'fe3c', 'nanoparticles', 'are', 'able', 'to', 'strongly', 'adsorb', 'polysulfides', 'via\\nstrong', 'fe-s', 'chemical', 'bonds.', 'due', 'to', 'the', 'remarkable', 'conductivity,', 'fe3c\\nnanoparticles', 'can', 'also', 'accelerate', 'the', 'electrochemical', 'reactions', 'of', 'the\\npolysulfides', 'through', 'fast', 'electron', 'transportation.', 'the', 'carbon', 'sheets', 'prevent\\nthe', 'aggregation', 'of', 'fe3c', 'nanoparticles', 'and', 'accommodate', 'sulfur', 'and', 'its', 'volume\\nexpansion', 'during', 'charge/discharge', 'processes.', 'with', 'features,', 'the\\nresultant', 'sulfur', 'cathodes', '(fe3c@npcs-s)', 'deliver', 'an', 'excellent', 'cycling\\nperformance', 'with', 'a', 'capacity', 'decay', 'of', '0.036%', 'per', 'cycle,', 'and', 'high', 'rate\\nperformance', 'of', 'ca.', '1127,', '1020,', '907,', '802,', '731', 'and', '647', 'mah', 'g(-1)', 'under', 'current\\ndensities', 'of', '0.3,', '0.5,', '1,', '2,', '3', 'and', '5', 'c,', 'respectively.', '', '\\n', '', 'practical', 'application', 'of', 'li-s', 'batteries', 'is', 'inherently\\nlimited', 'by', 'low', 'conductivity', 'of', 'sulfur', 'and', 'dissolution', 'of', 'polysulfides.\\nthe', 'enhancement', 'of', 'conductivity', 'and', 'introduction', 'of', 'polarity', 'to', 'sulfur\\nhost', 'is', 'an', 'effective', 'strategy', 'to', 'overcome', 'these', 'long-standing', 'challenges.', 'in\\nthis', 'work,', 'a', 'facile', 'one-step', 'carbonizing', 'process', 'is', 'used', 'to', 'synthesize', 'a\\nunique', 'porous', 'and', 'conducive', 'nanocomposite', 'where', 'fe3c', 'nanoparticles', 'are\\nembedded', 'in', 'nitrogen-doped', 'porous', 'carbon', 'sheets', '(fe3c@npcs).', 'as', 'demonstrated\\nin', 'li2s4', 'adsorption', 'experiments', 'and', 'confirmed', 'by', 'density', 'functional', 'theory\\ncalculations,', 'fe3c', 'nanoparticles', 'are', 'able', 'to', 'strongly', 'adsorb', 'polysulfides', 'via\\nstrong', 'fe-s', 'chemical', 'bonds.', 'due', 'to', 'remarkable', 'conductivity,', 'fe3c\\nnanoparticles', 'can', 'also', 'accelerate', 'electrochemical', 'reactions', 'of', 'the\\npolysulfides', 'through', 'fast', 'electron', 'transportation.', 'carbon', 'sheets', 'prevent\\nthe', 'aggregation', 'of', 'fe3c', 'nanoparticles', 'and', 'accommodate', 'sulfur', 'and', 'its', 'volume\\nexpansion', 'during', 'charge/discharge', 'processes.', 'with', 'these', 'features,', 'the\\nresultant', 'sulfur', 'cathodes', '(fe3c@npcs-s)', 'deliver', 'an', 'excellent', 'cycling\\nperformance', 'with', 'a', 'capacity', 'decay', 'of', '0.036%', 'per', 'cycle,', 'and', 'high', 'rate\\nperformance', 'of', 'ca.', '1127,', '1020,', '907,', '802,', '731', 'and', '647', 'mah', 'g(-1)', 'under', 'current\\ndensities', 'of', '0.3,', '0.5,', '1,', '2,', '3', 'and', '5', 'c,', 'respectively.', '', '\\n', 'the', 'practical', 'application', 'of', 'li-s', 'batteries', 'is', 'inherently\\nlimited', 'by', 'the', 'low', 'conductivity', 'of', 'sulfur', 'and', 'the', 'dissolution', 'of', 'polysulfides.\\nthe', 'enhancement', 'of', 'conductivity', 'and', 'introduction', 'of', 'polarity', 'to', 'the', 'sulfur\\nhost', 'is', 'an', 'effective', 'strategy', 'to', 'overcome', 'these', 'long-standing', 'challenges.', 'in\\nthis', 'work,', 'a', 'facile', 'one-step', 'carbonizing', 'process', 'is', 'used', 'to', 'synthesize', 'a\\nunique', 'porous', 'and', 'conducive', 'nanocomposite', 'where', 'fe3c', 'nanoparticles', 'are\\nembedded', 'in', 'nitrogen-doped', 'porous', 'carbon', 'sheets', '(fe3c@npcs).', 'as', 'demonstrated\\nin', 'li2s4', 'adsorption', 'experiments', 'and', 'confirmed', 'by', 'density', 'functional', 'theory\\ncalculations,', 'fe3c', 'nanoparticles', 'are', 'able', 'to', 'strongly', 'adsorb', 'polysulfides', 'via\\nstrong', 'fe-s', 'chemical', 'bonds.', 'due', 'to', 'the', 'remarkable', 'conductivity,', 'fe3c\\nnanoparticles', 'can', 'also', 'accelerate', 'the', 'electrochemical', 'reactions', 'of', 'the\\npolysulfides', 'through', 'fast', 'electron', 'transportation.', 'the', 'carbon', 'sheets', 'prevent\\nthe', 'aggregation', 'of', 'fe3c', 'nanoparticles', 'and', 'accommodate', 'sulfur', 'and', 'its', 'volume\\nexpansion', 'during', 'charge/discharge', 'processes.', 'with', 'these', 'features,', 'the\\nresultant', 'sulfur', 'cathodes', '(fe3c@npcs-s)', 'deliver', 'an', 'excellent', 'cycling\\nperformance', 'with', 'a', 'capacity', 'decay', 'of', '0.036%', 'per', 'cycle,', 'and', 'high', 'rate\\nperformance', 'of', 'ca.', '1127,', '1020,', '907,', '802,', '731', 'and', '647', 'mah', 'g(-1)', 'under', 'current\\ndensities', 'of', '0.3,', '0.5,', '1,', '2,', '3', 'and', '5', 'c,', 'respectively.', '\\n']\n"
     ]
    }
   ],
   "source": [
    "eg_abs_low = example_abstract.lower();\n",
    "#print(eg_abs_low)\n",
    "sentences = eg_abs_low.split(' ')\n",
    "#print(sentences[0:10])\n",
    "common_words = ['a', 'an','to', 'as', 'of', 'also', 'are', 'that', 'have', 'these', 'the', '']\n",
    "len(sentences)\n",
    "new_sentences = []\n",
    "new_sentences.append('hello')\n",
    "for i in range(len(common_words)):\n",
    "    for j in range(len(sentences)):\n",
    "        if common_words[i] != sentences[j]:\n",
    "            new_sentences.append(sentences[j])\n",
    "            #print(' not problem')\n",
    "print(new_sentences)"
   ]
  },
  {
   "cell_type": "code",
   "execution_count": null,
   "metadata": {},
   "outputs": [],
   "source": []
  },
  {
   "cell_type": "code",
   "execution_count": 120,
   "metadata": {},
   "outputs": [],
   "source": [
    "#model = word2vec.Word2Vec(sentences, iter=10, min_count=10, size=300, workers=4)"
   ]
  }
 ],
 "metadata": {
  "kernelspec": {
   "display_name": "Python 3",
   "language": "python",
   "name": "python3"
  },
  "language_info": {
   "codemirror_mode": {
    "name": "ipython",
    "version": 3
   },
   "file_extension": ".py",
   "mimetype": "text/x-python",
   "name": "python",
   "nbconvert_exporter": "python",
   "pygments_lexer": "ipython3",
   "version": "3.6.5"
  }
 },
 "nbformat": 4,
 "nbformat_minor": 2
}
