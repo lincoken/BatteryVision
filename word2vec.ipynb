{
 "cells": [
  {
   "cell_type": "code",
   "execution_count": 51,
   "metadata": {},
   "outputs": [],
   "source": [
    "#from gensim.test.utils import common_texts, get_tmpfile\n",
    "from gensim.models import Word2Vec\n",
    "import numpy as np"
   ]
  },
  {
   "cell_type": "code",
   "execution_count": 52,
   "metadata": {},
   "outputs": [],
   "source": [
    "# initilize the model\n",
    "model = Word2Vec(common_texts, size=100, window=5, min_count=1, workers=-1)\n",
    "# note on the parameters here:\n",
    "# workers -> parallelization"
   ]
  },
  {
   "cell_type": "code",
   "execution_count": 3,
   "metadata": {},
   "outputs": [
    {
     "data": {
      "text/plain": [
       "(0, 0)"
      ]
     },
     "execution_count": 3,
     "metadata": {},
     "output_type": "execute_result"
    }
   ],
   "source": [
    "# train based on context words 'hello' and 'world'\n",
    "model.train([[\"hello\", \"world\"]], total_examples=1, epochs=4)"
   ]
  },
  {
   "cell_type": "code",
   "execution_count": 57,
   "metadata": {},
   "outputs": [
    {
     "data": {
      "text/plain": [
       "(0, 0)"
      ]
     },
     "execution_count": 57,
     "metadata": {},
     "output_type": "execute_result"
    }
   ],
   "source": [
    "# note, input must be a sequence of sentences\n",
    "# eg.\n",
    "sentences = [['first', 'sentence'], ['second', 'sentence']]\n",
    "model.train(sentences, total_examples= len(sentences), epochs = 1)\n",
    "# note that when input is large, this will take up a lot of RAM, will have to be processed differently\n",
    "\n",
    "# remove unneccisary words from sentances\n",
    "# convert sentances into lists of words for input, so each word is tokenized to the list"
   ]
  },
  {
   "cell_type": "code",
   "execution_count": 53,
   "metadata": {},
   "outputs": [
    {
     "data": {
      "text/plain": [
       "{'human': <gensim.models.keyedvectors.Vocab at 0x7f44d8eabe10>,\n",
       " 'interface': <gensim.models.keyedvectors.Vocab at 0x7f44d8eabd68>,\n",
       " 'computer': <gensim.models.keyedvectors.Vocab at 0x7f44d8eab0b8>,\n",
       " 'survey': <gensim.models.keyedvectors.Vocab at 0x7f44d8eab5c0>,\n",
       " 'user': <gensim.models.keyedvectors.Vocab at 0x7f44d8eab898>,\n",
       " 'system': <gensim.models.keyedvectors.Vocab at 0x7f44d8eabba8>,\n",
       " 'response': <gensim.models.keyedvectors.Vocab at 0x7f44d8eaba90>,\n",
       " 'time': <gensim.models.keyedvectors.Vocab at 0x7f44d8eabc18>,\n",
       " 'eps': <gensim.models.keyedvectors.Vocab at 0x7f44d8eabdd8>,\n",
       " 'trees': <gensim.models.keyedvectors.Vocab at 0x7f44d8eabe48>,\n",
       " 'graph': <gensim.models.keyedvectors.Vocab at 0x7f44d8eabe80>,\n",
       " 'minors': <gensim.models.keyedvectors.Vocab at 0x7f44d8eabcf8>}"
      ]
     },
     "execution_count": 53,
     "metadata": {},
     "output_type": "execute_result"
    }
   ],
   "source": [
    "model.wv.vocab"
   ]
  },
  {
   "cell_type": "code",
   "execution_count": 6,
   "metadata": {},
   "outputs": [],
   "source": [
    "# eg\n",
    "# raw sentances: \n",
    "#Lithium batteries are primary batteries that have lithium as an anode. \n",
    "#These types of batteries are also referred to as lithium-metal batteries."
   ]
  },
  {
   "cell_type": "code",
   "execution_count": 66,
   "metadata": {},
   "outputs": [],
   "source": [
    "raw_sentances = ['lithium batteries are primary batteries that have lithium as an anode',\n",
    "                 'these types of batteries are also referred to as lithium-metal batteries']"
   ]
  },
  {
   "cell_type": "code",
   "execution_count": 37,
   "metadata": {},
   "outputs": [
    {
     "data": {
      "text/plain": [
       "'lithium batteries are primary batteries that have lithium as an anode'"
      ]
     },
     "execution_count": 37,
     "metadata": {},
     "output_type": "execute_result"
    }
   ],
   "source": [
    "raw_sentances[0]"
   ]
  },
  {
   "cell_type": "code",
   "execution_count": 38,
   "metadata": {},
   "outputs": [],
   "source": [
    "def sentance_to_wordlist(sentance_array):\n",
    "    words_array = []\n",
    "    for sentance in sentance_array:\n",
    "        words = sentance.split()\n",
    "        #print(words)\n",
    "        words_array.append(words)\n",
    "        #print(words_array)\n",
    "    return words_array"
   ]
  },
  {
   "cell_type": "code",
   "execution_count": 39,
   "metadata": {},
   "outputs": [
    {
     "data": {
      "text/plain": [
       "['lithium',\n",
       " 'batteries',\n",
       " 'are',\n",
       " 'primary',\n",
       " 'batteries',\n",
       " 'that',\n",
       " 'have',\n",
       " 'lithium',\n",
       " 'as',\n",
       " 'an',\n",
       " 'anode']"
      ]
     },
     "execution_count": 39,
     "metadata": {},
     "output_type": "execute_result"
    }
   ],
   "source": [
    "raw_sentances[0].split()"
   ]
  },
  {
   "cell_type": "code",
   "execution_count": 55,
   "metadata": {},
   "outputs": [
    {
     "data": {
      "text/plain": [
       "[['lithium',\n",
       "  'batteries',\n",
       "  'are',\n",
       "  'primary',\n",
       "  'batteries',\n",
       "  'that',\n",
       "  'have',\n",
       "  'lithium',\n",
       "  'as',\n",
       "  'an',\n",
       "  'anode'],\n",
       " ['these',\n",
       "  'types',\n",
       "  'of',\n",
       "  'batteries',\n",
       "  'are',\n",
       "  'also',\n",
       "  'referred',\n",
       "  'to',\n",
       "  'as',\n",
       "  'lithium-metal',\n",
       "  'batteries']]"
      ]
     },
     "execution_count": 55,
     "metadata": {},
     "output_type": "execute_result"
    }
   ],
   "source": [
    "sentances = sentance_to_wordlist(raw_sentances)\n",
    "sentances"
   ]
  },
  {
   "cell_type": "code",
   "execution_count": 42,
   "metadata": {},
   "outputs": [],
   "source": [
    "common_words = ['a', 'an','to', 'as', 'of', 'also', 'are', 'that', 'have', 'these']"
   ]
  },
  {
   "cell_type": "code",
   "execution_count": 58,
   "metadata": {},
   "outputs": [
    {
     "name": "stdout",
     "output_type": "stream",
     "text": [
      "[['lithium', 'batteries', 'primary', 'batteries', 'lithium', 'anode'], ['types', 'batteries', 'referred', 'lithium-metal', 'batteries']]\n"
     ]
    }
   ],
   "source": [
    "for i in range(len(sentances)):\n",
    "    for j in range(len(common_words)):\n",
    "        if common_words[j] in sentances[i]:\n",
    "            sentances[i].remove(common_words[j])\n",
    "            \n",
    "print(sentances)"
   ]
  },
  {
   "cell_type": "code",
   "execution_count": 60,
   "metadata": {},
   "outputs": [],
   "source": [
    "model = Word2Vec(sentances, size=100, window=5, min_count=1, workers=-1)"
   ]
  },
  {
   "cell_type": "code",
   "execution_count": 62,
   "metadata": {},
   "outputs": [
    {
     "data": {
      "text/plain": [
       "{'lithium': <gensim.models.keyedvectors.Vocab at 0x7f44d9742400>,\n",
       " 'batteries': <gensim.models.keyedvectors.Vocab at 0x7f44d9742550>,\n",
       " 'primary': <gensim.models.keyedvectors.Vocab at 0x7f44d9742390>,\n",
       " 'anode': <gensim.models.keyedvectors.Vocab at 0x7f44d97424a8>,\n",
       " 'types': <gensim.models.keyedvectors.Vocab at 0x7f44d97422e8>,\n",
       " 'referred': <gensim.models.keyedvectors.Vocab at 0x7f44d9742ac8>,\n",
       " 'lithium-metal': <gensim.models.keyedvectors.Vocab at 0x7f44d9742198>}"
      ]
     },
     "execution_count": 62,
     "metadata": {},
     "output_type": "execute_result"
    }
   ],
   "source": [
    "model.wv.vocab"
   ]
  },
  {
   "cell_type": "code",
   "execution_count": 63,
   "metadata": {
    "scrolled": true
   },
   "outputs": [
    {
     "data": {
      "text/plain": [
       "(0, 0)"
      ]
     },
     "execution_count": 63,
     "metadata": {},
     "output_type": "execute_result"
    }
   ],
   "source": [
    "model.train(sentances, total_examples=len(sentances), epochs=10)"
   ]
  },
  {
   "cell_type": "code",
   "execution_count": 68,
   "metadata": {
    "scrolled": true
   },
   "outputs": [
    {
     "name": "stderr",
     "output_type": "stream",
     "text": [
      "/opt/conda/lib/python3.6/site-packages/gensim/matutils.py:737: FutureWarning: Conversion of the second argument of issubdtype from `int` to `np.signedinteger` is deprecated. In future, it will be treated as `np.int64 == np.dtype(int).type`.\n",
      "  if np.issubdtype(vec.dtype, np.int):\n"
     ]
    },
    {
     "data": {
      "text/plain": [
       "[('anode', 0.24758800864219666),\n",
       " ('types', 0.16087964177131653),\n",
       " ('batteries', 0.14548242092132568)]"
      ]
     },
     "execution_count": 68,
     "metadata": {},
     "output_type": "execute_result"
    }
   ],
   "source": [
    "w1 = 'lithium'\n",
    "model.wv.most_similar(positive=w1, topn = 3)"
   ]
  },
  {
   "cell_type": "code",
   "execution_count": null,
   "metadata": {},
   "outputs": [],
   "source": []
  }
 ],
 "metadata": {
  "kernelspec": {
   "display_name": "Python 3",
   "language": "python",
   "name": "python3"
  },
  "language_info": {
   "codemirror_mode": {
    "name": "ipython",
    "version": 3
   },
   "file_extension": ".py",
   "mimetype": "text/x-python",
   "name": "python",
   "nbconvert_exporter": "python",
   "pygments_lexer": "ipython3",
   "version": "3.6.5"
  }
 },
 "nbformat": 4,
 "nbformat_minor": 2
}
